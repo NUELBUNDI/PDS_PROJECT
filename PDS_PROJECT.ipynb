{
  "nbformat": 4,
  "nbformat_minor": 0,
  "metadata": {
    "colab": {
      "name": "PDS_PROJECT.ipynb",
      "provenance": [],
      "include_colab_link": true
    },
    "kernelspec": {
      "name": "python3",
      "display_name": "Python 3"
    },
    "language_info": {
      "name": "python"
    }
  },
  "cells": [
    {
      "cell_type": "markdown",
      "metadata": {
        "id": "view-in-github",
        "colab_type": "text"
      },
      "source": [
        "<a href=\"https://colab.research.google.com/github/NUELBUNDI/PDS_PROJECT/blob/main/PDS_PROJECT.ipynb\" target=\"_parent\"><img src=\"https://colab.research.google.com/assets/colab-badge.svg\" alt=\"Open In Colab\"/></a>"
      ]
    },
    {
      "cell_type": "code",
      "metadata": {
        "id": "HVBytuSxcCwP"
      },
      "source": [
        "%matplotlib inline\n",
        "from bokeh.io import output_notebook\n",
        "from bokeh import models, palettes, transform\n",
        "from bokeh.plotting import figure, show\n",
        "import pandas as pd\n",
        "import pandas_profiling\n",
        "import matplotlib.pyplot as plt\n",
        "import numpy as np\n",
        "import seaborn as sns\n",
        "from sklearn import cluster, decomposition, pipeline, preprocessing\n",
        "import statsmodels\n",
        "import missingno as mn\n",
        "import plotly.offline as pyo\n",
        "import plotly.express as px\n",
        "import plotly.graph_objects as go\n"
      ],
      "execution_count": 277,
      "outputs": []
    },
    {
      "cell_type": "code",
      "metadata": {
        "id": "_XVwPuvocTRI"
      },
      "source": [
        "# Read csv File.\n",
        "\n",
        "df= pd.read_csv(\"https://raw.githubusercontent.com/NUELBUNDI/PDS_PROJECT/main/Salesdata.csv\",encoding=\"Latin-1\")"
      ],
      "execution_count": 278,
      "outputs": []
    },
    {
      "cell_type": "markdown",
      "metadata": {
        "id": "LsTRyGJFc2-3"
      },
      "source": [
        "# **SECTION 1 : CLEANING DATA**"
      ]
    },
    {
      "cell_type": "code",
      "metadata": {
        "colab": {
          "base_uri": "https://localhost:8080/",
          "height": 167
        },
        "id": "A6JXzHHbcsAH",
        "outputId": "579924d1-f10f-44a6-8038-3ab62aac9fe6"
      },
      "source": [
        "# read first five rows\n",
        "df.head(2)"
      ],
      "execution_count": 279,
      "outputs": [
        {
          "output_type": "execute_result",
          "data": {
            "text/html": [
              "<div>\n",
              "<style scoped>\n",
              "    .dataframe tbody tr th:only-of-type {\n",
              "        vertical-align: middle;\n",
              "    }\n",
              "\n",
              "    .dataframe tbody tr th {\n",
              "        vertical-align: top;\n",
              "    }\n",
              "\n",
              "    .dataframe thead th {\n",
              "        text-align: right;\n",
              "    }\n",
              "</style>\n",
              "<table border=\"1\" class=\"dataframe\">\n",
              "  <thead>\n",
              "    <tr style=\"text-align: right;\">\n",
              "      <th></th>\n",
              "      <th>ORDERNUMBER</th>\n",
              "      <th>QUANTITYORDERED</th>\n",
              "      <th>PRICEEACH</th>\n",
              "      <th>ORDERLINENUMBER</th>\n",
              "      <th>SALES</th>\n",
              "      <th>ORDERDATE</th>\n",
              "      <th>STATUS</th>\n",
              "      <th>QTR_ID</th>\n",
              "      <th>PRODUCTLINE</th>\n",
              "      <th>MSRP</th>\n",
              "      <th>PRODUCTCODE</th>\n",
              "      <th>CUSTOMERNAME</th>\n",
              "      <th>PHONE</th>\n",
              "      <th>ADDRESSLINE1</th>\n",
              "      <th>ADDRESSLINE2</th>\n",
              "      <th>CITY</th>\n",
              "      <th>STATE</th>\n",
              "      <th>POSTALCODE</th>\n",
              "      <th>COUNTRY</th>\n",
              "      <th>TERRITORY</th>\n",
              "      <th>CONTACTLASTNAME</th>\n",
              "      <th>CONTACTFIRSTNAME</th>\n",
              "      <th>DEALSIZE</th>\n",
              "    </tr>\n",
              "  </thead>\n",
              "  <tbody>\n",
              "    <tr>\n",
              "      <th>0</th>\n",
              "      <td>10107</td>\n",
              "      <td>30</td>\n",
              "      <td>$95.70</td>\n",
              "      <td>2</td>\n",
              "      <td>$2,871.00</td>\n",
              "      <td>2/24/2003 0:00</td>\n",
              "      <td>Shipped</td>\n",
              "      <td>1</td>\n",
              "      <td>Motorcycles</td>\n",
              "      <td>95</td>\n",
              "      <td>S10_1678</td>\n",
              "      <td>Land of Toys Inc.</td>\n",
              "      <td>2125557818</td>\n",
              "      <td>897 Long Airport Avenue</td>\n",
              "      <td>NaN</td>\n",
              "      <td>NYC</td>\n",
              "      <td>NY</td>\n",
              "      <td>10022</td>\n",
              "      <td>USA</td>\n",
              "      <td>NaN</td>\n",
              "      <td>Yu</td>\n",
              "      <td>Kwai</td>\n",
              "      <td>Small</td>\n",
              "    </tr>\n",
              "    <tr>\n",
              "      <th>1</th>\n",
              "      <td>10121</td>\n",
              "      <td>34</td>\n",
              "      <td>$81.35</td>\n",
              "      <td>5</td>\n",
              "      <td>$2,765.90</td>\n",
              "      <td>05-07-03 0:00</td>\n",
              "      <td>Shipped</td>\n",
              "      <td>2</td>\n",
              "      <td>Motorcycles</td>\n",
              "      <td>95</td>\n",
              "      <td>S10_1678</td>\n",
              "      <td>Reims Collectables</td>\n",
              "      <td>26.47.1555</td>\n",
              "      <td>59 rue de l'Abbaye</td>\n",
              "      <td>NaN</td>\n",
              "      <td>Reims</td>\n",
              "      <td>NaN</td>\n",
              "      <td>51100</td>\n",
              "      <td>France</td>\n",
              "      <td>EMEA</td>\n",
              "      <td>Henriot</td>\n",
              "      <td>Paul</td>\n",
              "      <td>Small</td>\n",
              "    </tr>\n",
              "  </tbody>\n",
              "</table>\n",
              "</div>"
            ],
            "text/plain": [
              "   ORDERNUMBER  QUANTITYORDERED  ... CONTACTFIRSTNAME  DEALSIZE\n",
              "0        10107               30  ...             Kwai     Small\n",
              "1        10121               34  ...             Paul     Small\n",
              "\n",
              "[2 rows x 23 columns]"
            ]
          },
          "metadata": {},
          "execution_count": 279
        }
      ]
    },
    {
      "cell_type": "code",
      "metadata": {
        "colab": {
          "base_uri": "https://localhost:8080/"
        },
        "id": "aTTr0Om-lH_u",
        "outputId": "6bfeefe4-db18-4a49-d3ff-778220470e34"
      },
      "source": [
        "# Convert the Columns to lower case and Remove spaces  Ease with uniform case.\n",
        "df.columns=df.columns.str.lower()\n",
        "df.columns=df.columns.str.replace(' ','')\n",
        "df.columns"
      ],
      "execution_count": 280,
      "outputs": [
        {
          "output_type": "execute_result",
          "data": {
            "text/plain": [
              "Index(['ordernumber', 'quantityordered', 'priceeach', 'orderlinenumber',\n",
              "       'sales', 'orderdate', 'status', 'qtr_id', 'productline', 'msrp',\n",
              "       'productcode', 'customername', 'phone', 'addressline1', 'addressline2',\n",
              "       'city', 'state', 'postalcode', 'country', 'territory',\n",
              "       'contactlastname', 'contactfirstname', 'dealsize'],\n",
              "      dtype='object')"
            ]
          },
          "metadata": {},
          "execution_count": 280
        }
      ]
    },
    {
      "cell_type": "code",
      "metadata": {
        "colab": {
          "base_uri": "https://localhost:8080/",
          "height": 232
        },
        "id": "9yFPK9uLW0Ax",
        "outputId": "a5fa512f-dde5-4e03-a405-66dc963d7d97"
      },
      "source": [
        "# Remove $ and ,\n",
        "\n",
        "# Create a function \n",
        "def convert(x):\n",
        "  if isinstance(x, str):\n",
        "    return(x.replace('$', '').replace(',', ''))\n",
        "  return(x)\n",
        "  \n",
        "# Apply the function.\n",
        "\n",
        "df['priceeach']=df['priceeach'].apply(lambda x: convert(x)).astype(float)\n",
        "df['sales']=df['sales'].apply(lambda x: convert(x)).astype(float)\n",
        "df.head(3)\n"
      ],
      "execution_count": 281,
      "outputs": [
        {
          "output_type": "execute_result",
          "data": {
            "text/html": [
              "<div>\n",
              "<style scoped>\n",
              "    .dataframe tbody tr th:only-of-type {\n",
              "        vertical-align: middle;\n",
              "    }\n",
              "\n",
              "    .dataframe tbody tr th {\n",
              "        vertical-align: top;\n",
              "    }\n",
              "\n",
              "    .dataframe thead th {\n",
              "        text-align: right;\n",
              "    }\n",
              "</style>\n",
              "<table border=\"1\" class=\"dataframe\">\n",
              "  <thead>\n",
              "    <tr style=\"text-align: right;\">\n",
              "      <th></th>\n",
              "      <th>ordernumber</th>\n",
              "      <th>quantityordered</th>\n",
              "      <th>priceeach</th>\n",
              "      <th>orderlinenumber</th>\n",
              "      <th>sales</th>\n",
              "      <th>orderdate</th>\n",
              "      <th>status</th>\n",
              "      <th>qtr_id</th>\n",
              "      <th>productline</th>\n",
              "      <th>msrp</th>\n",
              "      <th>productcode</th>\n",
              "      <th>customername</th>\n",
              "      <th>phone</th>\n",
              "      <th>addressline1</th>\n",
              "      <th>addressline2</th>\n",
              "      <th>city</th>\n",
              "      <th>state</th>\n",
              "      <th>postalcode</th>\n",
              "      <th>country</th>\n",
              "      <th>territory</th>\n",
              "      <th>contactlastname</th>\n",
              "      <th>contactfirstname</th>\n",
              "      <th>dealsize</th>\n",
              "    </tr>\n",
              "  </thead>\n",
              "  <tbody>\n",
              "    <tr>\n",
              "      <th>0</th>\n",
              "      <td>10107</td>\n",
              "      <td>30</td>\n",
              "      <td>95.70</td>\n",
              "      <td>2</td>\n",
              "      <td>2871.00</td>\n",
              "      <td>2/24/2003 0:00</td>\n",
              "      <td>Shipped</td>\n",
              "      <td>1</td>\n",
              "      <td>Motorcycles</td>\n",
              "      <td>95</td>\n",
              "      <td>S10_1678</td>\n",
              "      <td>Land of Toys Inc.</td>\n",
              "      <td>2125557818</td>\n",
              "      <td>897 Long Airport Avenue</td>\n",
              "      <td>NaN</td>\n",
              "      <td>NYC</td>\n",
              "      <td>NY</td>\n",
              "      <td>10022</td>\n",
              "      <td>USA</td>\n",
              "      <td>NaN</td>\n",
              "      <td>Yu</td>\n",
              "      <td>Kwai</td>\n",
              "      <td>Small</td>\n",
              "    </tr>\n",
              "    <tr>\n",
              "      <th>1</th>\n",
              "      <td>10121</td>\n",
              "      <td>34</td>\n",
              "      <td>81.35</td>\n",
              "      <td>5</td>\n",
              "      <td>2765.90</td>\n",
              "      <td>05-07-03 0:00</td>\n",
              "      <td>Shipped</td>\n",
              "      <td>2</td>\n",
              "      <td>Motorcycles</td>\n",
              "      <td>95</td>\n",
              "      <td>S10_1678</td>\n",
              "      <td>Reims Collectables</td>\n",
              "      <td>26.47.1555</td>\n",
              "      <td>59 rue de l'Abbaye</td>\n",
              "      <td>NaN</td>\n",
              "      <td>Reims</td>\n",
              "      <td>NaN</td>\n",
              "      <td>51100</td>\n",
              "      <td>France</td>\n",
              "      <td>EMEA</td>\n",
              "      <td>Henriot</td>\n",
              "      <td>Paul</td>\n",
              "      <td>Small</td>\n",
              "    </tr>\n",
              "    <tr>\n",
              "      <th>2</th>\n",
              "      <td>10134</td>\n",
              "      <td>41</td>\n",
              "      <td>94.74</td>\n",
              "      <td>2</td>\n",
              "      <td>3884.34</td>\n",
              "      <td>07-01-03 0:00</td>\n",
              "      <td>Shipped</td>\n",
              "      <td>3</td>\n",
              "      <td>Motorcycles</td>\n",
              "      <td>95</td>\n",
              "      <td>S10_1678</td>\n",
              "      <td>Lyon Souveniers</td>\n",
              "      <td>+33 1 46 62 7555</td>\n",
              "      <td>27 rue du Colonel Pierre Avia</td>\n",
              "      <td>NaN</td>\n",
              "      <td>Paris</td>\n",
              "      <td>NaN</td>\n",
              "      <td>75508</td>\n",
              "      <td>France</td>\n",
              "      <td>EMEA</td>\n",
              "      <td>Da Cunha</td>\n",
              "      <td>Daniel</td>\n",
              "      <td>Medium</td>\n",
              "    </tr>\n",
              "  </tbody>\n",
              "</table>\n",
              "</div>"
            ],
            "text/plain": [
              "   ordernumber  quantityordered  ...  contactfirstname  dealsize\n",
              "0        10107               30  ...              Kwai     Small\n",
              "1        10121               34  ...              Paul     Small\n",
              "2        10134               41  ...            Daniel    Medium\n",
              "\n",
              "[3 rows x 23 columns]"
            ]
          },
          "metadata": {},
          "execution_count": 281
        }
      ]
    },
    {
      "cell_type": "code",
      "metadata": {
        "colab": {
          "base_uri": "https://localhost:8080/",
          "height": 167
        },
        "id": "E-pejUIISlKm",
        "outputId": "31c71a77-0630-44bd-b4e4-171585a7bd14"
      },
      "source": [
        "# convert order date to pd date time frame and  create a  new month and year colum\n",
        "\n",
        "df['orderdate']=pd.to_datetime(df['orderdate'])\n",
        "df['ordermonth']=df['orderdate'].dt.month\n",
        "df['orderyear']=df['orderdate'].dt.year\n",
        "\n",
        "df.head(2)\n"
      ],
      "execution_count": 282,
      "outputs": [
        {
          "output_type": "execute_result",
          "data": {
            "text/html": [
              "<div>\n",
              "<style scoped>\n",
              "    .dataframe tbody tr th:only-of-type {\n",
              "        vertical-align: middle;\n",
              "    }\n",
              "\n",
              "    .dataframe tbody tr th {\n",
              "        vertical-align: top;\n",
              "    }\n",
              "\n",
              "    .dataframe thead th {\n",
              "        text-align: right;\n",
              "    }\n",
              "</style>\n",
              "<table border=\"1\" class=\"dataframe\">\n",
              "  <thead>\n",
              "    <tr style=\"text-align: right;\">\n",
              "      <th></th>\n",
              "      <th>ordernumber</th>\n",
              "      <th>quantityordered</th>\n",
              "      <th>priceeach</th>\n",
              "      <th>orderlinenumber</th>\n",
              "      <th>sales</th>\n",
              "      <th>orderdate</th>\n",
              "      <th>status</th>\n",
              "      <th>qtr_id</th>\n",
              "      <th>productline</th>\n",
              "      <th>msrp</th>\n",
              "      <th>productcode</th>\n",
              "      <th>customername</th>\n",
              "      <th>phone</th>\n",
              "      <th>addressline1</th>\n",
              "      <th>addressline2</th>\n",
              "      <th>city</th>\n",
              "      <th>state</th>\n",
              "      <th>postalcode</th>\n",
              "      <th>country</th>\n",
              "      <th>territory</th>\n",
              "      <th>contactlastname</th>\n",
              "      <th>contactfirstname</th>\n",
              "      <th>dealsize</th>\n",
              "      <th>ordermonth</th>\n",
              "      <th>orderyear</th>\n",
              "    </tr>\n",
              "  </thead>\n",
              "  <tbody>\n",
              "    <tr>\n",
              "      <th>0</th>\n",
              "      <td>10107</td>\n",
              "      <td>30</td>\n",
              "      <td>95.70</td>\n",
              "      <td>2</td>\n",
              "      <td>2871.0</td>\n",
              "      <td>2003-02-24</td>\n",
              "      <td>Shipped</td>\n",
              "      <td>1</td>\n",
              "      <td>Motorcycles</td>\n",
              "      <td>95</td>\n",
              "      <td>S10_1678</td>\n",
              "      <td>Land of Toys Inc.</td>\n",
              "      <td>2125557818</td>\n",
              "      <td>897 Long Airport Avenue</td>\n",
              "      <td>NaN</td>\n",
              "      <td>NYC</td>\n",
              "      <td>NY</td>\n",
              "      <td>10022</td>\n",
              "      <td>USA</td>\n",
              "      <td>NaN</td>\n",
              "      <td>Yu</td>\n",
              "      <td>Kwai</td>\n",
              "      <td>Small</td>\n",
              "      <td>2</td>\n",
              "      <td>2003</td>\n",
              "    </tr>\n",
              "    <tr>\n",
              "      <th>1</th>\n",
              "      <td>10121</td>\n",
              "      <td>34</td>\n",
              "      <td>81.35</td>\n",
              "      <td>5</td>\n",
              "      <td>2765.9</td>\n",
              "      <td>2003-05-07</td>\n",
              "      <td>Shipped</td>\n",
              "      <td>2</td>\n",
              "      <td>Motorcycles</td>\n",
              "      <td>95</td>\n",
              "      <td>S10_1678</td>\n",
              "      <td>Reims Collectables</td>\n",
              "      <td>26.47.1555</td>\n",
              "      <td>59 rue de l'Abbaye</td>\n",
              "      <td>NaN</td>\n",
              "      <td>Reims</td>\n",
              "      <td>NaN</td>\n",
              "      <td>51100</td>\n",
              "      <td>France</td>\n",
              "      <td>EMEA</td>\n",
              "      <td>Henriot</td>\n",
              "      <td>Paul</td>\n",
              "      <td>Small</td>\n",
              "      <td>5</td>\n",
              "      <td>2003</td>\n",
              "    </tr>\n",
              "  </tbody>\n",
              "</table>\n",
              "</div>"
            ],
            "text/plain": [
              "   ordernumber  quantityordered  priceeach  ...  dealsize  ordermonth orderyear\n",
              "0        10107               30      95.70  ...     Small           2      2003\n",
              "1        10121               34      81.35  ...     Small           5      2003\n",
              "\n",
              "[2 rows x 25 columns]"
            ]
          },
          "metadata": {},
          "execution_count": 282
        }
      ]
    },
    {
      "cell_type": "code",
      "metadata": {
        "id": "CVCLskjVT3V8"
      },
      "source": [
        "# Arrange dataframe columns\n",
        "\n",
        "cols=list(df.columns.values)\n",
        "\n",
        "df=df[['ordernumber', 'quantityordered','priceeach', 'orderlinenumber', 'sales', 'orderdate','ordermonth','orderyear','status', 'qtr_id', 'productline', 'msrp', 'productcode', 'customername','phone', 'addressline1', 'city', 'state', 'postalcode', 'country', 'contactlastname', 'contactfirstname', 'dealsize']]\n"
      ],
      "execution_count": 283,
      "outputs": []
    },
    {
      "cell_type": "code",
      "metadata": {
        "colab": {
          "base_uri": "https://localhost:8080/",
          "height": 420
        },
        "id": "ZjbNAtKfswhQ",
        "outputId": "3ec44b3b-6af1-434f-c014-642ed8892eaa"
      },
      "source": [
        "df['quarters']=df['ordermonth'].apply(lambda x :'Q1' if x<=3 else('Q2' if (x>3 and x<=6) else ('Q3' if (x>6 and x<=8) else 'Q4')))\n",
        "df.head(4)"
      ],
      "execution_count": 284,
      "outputs": [
        {
          "output_type": "stream",
          "name": "stderr",
          "text": [
            "/usr/local/lib/python3.7/dist-packages/ipykernel_launcher.py:1: SettingWithCopyWarning:\n",
            "\n",
            "\n",
            "A value is trying to be set on a copy of a slice from a DataFrame.\n",
            "Try using .loc[row_indexer,col_indexer] = value instead\n",
            "\n",
            "See the caveats in the documentation: https://pandas.pydata.org/pandas-docs/stable/user_guide/indexing.html#returning-a-view-versus-a-copy\n",
            "\n"
          ]
        },
        {
          "output_type": "execute_result",
          "data": {
            "text/html": [
              "<div>\n",
              "<style scoped>\n",
              "    .dataframe tbody tr th:only-of-type {\n",
              "        vertical-align: middle;\n",
              "    }\n",
              "\n",
              "    .dataframe tbody tr th {\n",
              "        vertical-align: top;\n",
              "    }\n",
              "\n",
              "    .dataframe thead th {\n",
              "        text-align: right;\n",
              "    }\n",
              "</style>\n",
              "<table border=\"1\" class=\"dataframe\">\n",
              "  <thead>\n",
              "    <tr style=\"text-align: right;\">\n",
              "      <th></th>\n",
              "      <th>ordernumber</th>\n",
              "      <th>quantityordered</th>\n",
              "      <th>priceeach</th>\n",
              "      <th>orderlinenumber</th>\n",
              "      <th>sales</th>\n",
              "      <th>orderdate</th>\n",
              "      <th>ordermonth</th>\n",
              "      <th>orderyear</th>\n",
              "      <th>status</th>\n",
              "      <th>qtr_id</th>\n",
              "      <th>productline</th>\n",
              "      <th>msrp</th>\n",
              "      <th>productcode</th>\n",
              "      <th>customername</th>\n",
              "      <th>phone</th>\n",
              "      <th>addressline1</th>\n",
              "      <th>city</th>\n",
              "      <th>state</th>\n",
              "      <th>postalcode</th>\n",
              "      <th>country</th>\n",
              "      <th>contactlastname</th>\n",
              "      <th>contactfirstname</th>\n",
              "      <th>dealsize</th>\n",
              "      <th>quarters</th>\n",
              "    </tr>\n",
              "  </thead>\n",
              "  <tbody>\n",
              "    <tr>\n",
              "      <th>0</th>\n",
              "      <td>10107</td>\n",
              "      <td>30</td>\n",
              "      <td>95.70</td>\n",
              "      <td>2</td>\n",
              "      <td>2871.00</td>\n",
              "      <td>2003-02-24</td>\n",
              "      <td>2</td>\n",
              "      <td>2003</td>\n",
              "      <td>Shipped</td>\n",
              "      <td>1</td>\n",
              "      <td>Motorcycles</td>\n",
              "      <td>95</td>\n",
              "      <td>S10_1678</td>\n",
              "      <td>Land of Toys Inc.</td>\n",
              "      <td>2125557818</td>\n",
              "      <td>897 Long Airport Avenue</td>\n",
              "      <td>NYC</td>\n",
              "      <td>NY</td>\n",
              "      <td>10022</td>\n",
              "      <td>USA</td>\n",
              "      <td>Yu</td>\n",
              "      <td>Kwai</td>\n",
              "      <td>Small</td>\n",
              "      <td>Q1</td>\n",
              "    </tr>\n",
              "    <tr>\n",
              "      <th>1</th>\n",
              "      <td>10121</td>\n",
              "      <td>34</td>\n",
              "      <td>81.35</td>\n",
              "      <td>5</td>\n",
              "      <td>2765.90</td>\n",
              "      <td>2003-05-07</td>\n",
              "      <td>5</td>\n",
              "      <td>2003</td>\n",
              "      <td>Shipped</td>\n",
              "      <td>2</td>\n",
              "      <td>Motorcycles</td>\n",
              "      <td>95</td>\n",
              "      <td>S10_1678</td>\n",
              "      <td>Reims Collectables</td>\n",
              "      <td>26.47.1555</td>\n",
              "      <td>59 rue de l'Abbaye</td>\n",
              "      <td>Reims</td>\n",
              "      <td>NaN</td>\n",
              "      <td>51100</td>\n",
              "      <td>France</td>\n",
              "      <td>Henriot</td>\n",
              "      <td>Paul</td>\n",
              "      <td>Small</td>\n",
              "      <td>Q2</td>\n",
              "    </tr>\n",
              "    <tr>\n",
              "      <th>2</th>\n",
              "      <td>10134</td>\n",
              "      <td>41</td>\n",
              "      <td>94.74</td>\n",
              "      <td>2</td>\n",
              "      <td>3884.34</td>\n",
              "      <td>2003-07-01</td>\n",
              "      <td>7</td>\n",
              "      <td>2003</td>\n",
              "      <td>Shipped</td>\n",
              "      <td>3</td>\n",
              "      <td>Motorcycles</td>\n",
              "      <td>95</td>\n",
              "      <td>S10_1678</td>\n",
              "      <td>Lyon Souveniers</td>\n",
              "      <td>+33 1 46 62 7555</td>\n",
              "      <td>27 rue du Colonel Pierre Avia</td>\n",
              "      <td>Paris</td>\n",
              "      <td>NaN</td>\n",
              "      <td>75508</td>\n",
              "      <td>France</td>\n",
              "      <td>Da Cunha</td>\n",
              "      <td>Daniel</td>\n",
              "      <td>Medium</td>\n",
              "      <td>Q3</td>\n",
              "    </tr>\n",
              "    <tr>\n",
              "      <th>3</th>\n",
              "      <td>10145</td>\n",
              "      <td>45</td>\n",
              "      <td>83.26</td>\n",
              "      <td>6</td>\n",
              "      <td>3746.70</td>\n",
              "      <td>2003-08-25</td>\n",
              "      <td>8</td>\n",
              "      <td>2003</td>\n",
              "      <td>Shipped</td>\n",
              "      <td>3</td>\n",
              "      <td>Motorcycles</td>\n",
              "      <td>95</td>\n",
              "      <td>S10_1678</td>\n",
              "      <td>Toys4GrownUps.com</td>\n",
              "      <td>6265557265</td>\n",
              "      <td>78934 Hillside Dr.</td>\n",
              "      <td>Pasadena</td>\n",
              "      <td>CA</td>\n",
              "      <td>90003</td>\n",
              "      <td>USA</td>\n",
              "      <td>Young</td>\n",
              "      <td>Julie</td>\n",
              "      <td>Medium</td>\n",
              "      <td>Q3</td>\n",
              "    </tr>\n",
              "  </tbody>\n",
              "</table>\n",
              "</div>"
            ],
            "text/plain": [
              "   ordernumber  quantityordered  priceeach  ...  contactfirstname  dealsize quarters\n",
              "0        10107               30      95.70  ...              Kwai     Small       Q1\n",
              "1        10121               34      81.35  ...              Paul     Small       Q2\n",
              "2        10134               41      94.74  ...            Daniel    Medium       Q3\n",
              "3        10145               45      83.26  ...             Julie    Medium       Q3\n",
              "\n",
              "[4 rows x 24 columns]"
            ]
          },
          "metadata": {},
          "execution_count": 284
        }
      ]
    },
    {
      "cell_type": "code",
      "metadata": {
        "colab": {
          "base_uri": "https://localhost:8080/"
        },
        "id": "Z5dhpaizdQhT",
        "outputId": "8b19357f-9265-4c9c-9765-fd95417da529"
      },
      "source": [
        "print(f' The Shape of the Dataframe is in Rows and Columns respectively as  {df.shape}')"
      ],
      "execution_count": 285,
      "outputs": [
        {
          "output_type": "stream",
          "name": "stdout",
          "text": [
            " The Shape of the Dataframe is in Rows and Columns respectively as  (2823, 24)\n"
          ]
        }
      ]
    },
    {
      "cell_type": "code",
      "metadata": {
        "colab": {
          "base_uri": "https://localhost:8080/",
          "height": 802
        },
        "id": "EM7lE09tdw3q",
        "outputId": "def40d16-c2ba-4482-a536-610123cf5c6b"
      },
      "source": [
        "# Check for the Missing Values as value of Mean Percentage per rows so as to evaluate their relevance \n",
        "\n",
        "d_types=df.dtypes\n",
        "d_missing=df.isnull().mean().round(4)*100\n",
        "\n",
        "# converting to data frames\n",
        "\n",
        "details1=pd.DataFrame(d_types,columns=['DTYPE'])\n",
        "details2=pd.DataFrame(d_missing,columns=['MISSING'])\n",
        "\n",
        "# Combine the dataframes\n",
        "combine_df=pd.concat([details1,details2],axis=1)\n",
        "combine_df.sort_values(by='MISSING',ascending=False)\n"
      ],
      "execution_count": 286,
      "outputs": [
        {
          "output_type": "execute_result",
          "data": {
            "text/html": [
              "<div>\n",
              "<style scoped>\n",
              "    .dataframe tbody tr th:only-of-type {\n",
              "        vertical-align: middle;\n",
              "    }\n",
              "\n",
              "    .dataframe tbody tr th {\n",
              "        vertical-align: top;\n",
              "    }\n",
              "\n",
              "    .dataframe thead th {\n",
              "        text-align: right;\n",
              "    }\n",
              "</style>\n",
              "<table border=\"1\" class=\"dataframe\">\n",
              "  <thead>\n",
              "    <tr style=\"text-align: right;\">\n",
              "      <th></th>\n",
              "      <th>DTYPE</th>\n",
              "      <th>MISSING</th>\n",
              "    </tr>\n",
              "  </thead>\n",
              "  <tbody>\n",
              "    <tr>\n",
              "      <th>state</th>\n",
              "      <td>object</td>\n",
              "      <td>52.64</td>\n",
              "    </tr>\n",
              "    <tr>\n",
              "      <th>postalcode</th>\n",
              "      <td>object</td>\n",
              "      <td>2.69</td>\n",
              "    </tr>\n",
              "    <tr>\n",
              "      <th>ordernumber</th>\n",
              "      <td>int64</td>\n",
              "      <td>0.00</td>\n",
              "    </tr>\n",
              "    <tr>\n",
              "      <th>quantityordered</th>\n",
              "      <td>int64</td>\n",
              "      <td>0.00</td>\n",
              "    </tr>\n",
              "    <tr>\n",
              "      <th>dealsize</th>\n",
              "      <td>object</td>\n",
              "      <td>0.00</td>\n",
              "    </tr>\n",
              "    <tr>\n",
              "      <th>contactfirstname</th>\n",
              "      <td>object</td>\n",
              "      <td>0.00</td>\n",
              "    </tr>\n",
              "    <tr>\n",
              "      <th>contactlastname</th>\n",
              "      <td>object</td>\n",
              "      <td>0.00</td>\n",
              "    </tr>\n",
              "    <tr>\n",
              "      <th>country</th>\n",
              "      <td>object</td>\n",
              "      <td>0.00</td>\n",
              "    </tr>\n",
              "    <tr>\n",
              "      <th>city</th>\n",
              "      <td>object</td>\n",
              "      <td>0.00</td>\n",
              "    </tr>\n",
              "    <tr>\n",
              "      <th>addressline1</th>\n",
              "      <td>object</td>\n",
              "      <td>0.00</td>\n",
              "    </tr>\n",
              "    <tr>\n",
              "      <th>phone</th>\n",
              "      <td>object</td>\n",
              "      <td>0.00</td>\n",
              "    </tr>\n",
              "    <tr>\n",
              "      <th>customername</th>\n",
              "      <td>object</td>\n",
              "      <td>0.00</td>\n",
              "    </tr>\n",
              "    <tr>\n",
              "      <th>productcode</th>\n",
              "      <td>object</td>\n",
              "      <td>0.00</td>\n",
              "    </tr>\n",
              "    <tr>\n",
              "      <th>msrp</th>\n",
              "      <td>int64</td>\n",
              "      <td>0.00</td>\n",
              "    </tr>\n",
              "    <tr>\n",
              "      <th>productline</th>\n",
              "      <td>object</td>\n",
              "      <td>0.00</td>\n",
              "    </tr>\n",
              "    <tr>\n",
              "      <th>qtr_id</th>\n",
              "      <td>int64</td>\n",
              "      <td>0.00</td>\n",
              "    </tr>\n",
              "    <tr>\n",
              "      <th>status</th>\n",
              "      <td>object</td>\n",
              "      <td>0.00</td>\n",
              "    </tr>\n",
              "    <tr>\n",
              "      <th>orderyear</th>\n",
              "      <td>int64</td>\n",
              "      <td>0.00</td>\n",
              "    </tr>\n",
              "    <tr>\n",
              "      <th>ordermonth</th>\n",
              "      <td>int64</td>\n",
              "      <td>0.00</td>\n",
              "    </tr>\n",
              "    <tr>\n",
              "      <th>orderdate</th>\n",
              "      <td>datetime64[ns]</td>\n",
              "      <td>0.00</td>\n",
              "    </tr>\n",
              "    <tr>\n",
              "      <th>sales</th>\n",
              "      <td>float64</td>\n",
              "      <td>0.00</td>\n",
              "    </tr>\n",
              "    <tr>\n",
              "      <th>orderlinenumber</th>\n",
              "      <td>int64</td>\n",
              "      <td>0.00</td>\n",
              "    </tr>\n",
              "    <tr>\n",
              "      <th>priceeach</th>\n",
              "      <td>float64</td>\n",
              "      <td>0.00</td>\n",
              "    </tr>\n",
              "    <tr>\n",
              "      <th>quarters</th>\n",
              "      <td>object</td>\n",
              "      <td>0.00</td>\n",
              "    </tr>\n",
              "  </tbody>\n",
              "</table>\n",
              "</div>"
            ],
            "text/plain": [
              "                           DTYPE  MISSING\n",
              "state                     object    52.64\n",
              "postalcode                object     2.69\n",
              "ordernumber                int64     0.00\n",
              "quantityordered            int64     0.00\n",
              "dealsize                  object     0.00\n",
              "contactfirstname          object     0.00\n",
              "contactlastname           object     0.00\n",
              "country                   object     0.00\n",
              "city                      object     0.00\n",
              "addressline1              object     0.00\n",
              "phone                     object     0.00\n",
              "customername              object     0.00\n",
              "productcode               object     0.00\n",
              "msrp                       int64     0.00\n",
              "productline               object     0.00\n",
              "qtr_id                     int64     0.00\n",
              "status                    object     0.00\n",
              "orderyear                  int64     0.00\n",
              "ordermonth                 int64     0.00\n",
              "orderdate         datetime64[ns]     0.00\n",
              "sales                    float64     0.00\n",
              "orderlinenumber            int64     0.00\n",
              "priceeach                float64     0.00\n",
              "quarters                  object     0.00"
            ]
          },
          "metadata": {},
          "execution_count": 286
        }
      ]
    },
    {
      "cell_type": "code",
      "metadata": {
        "colab": {
          "base_uri": "https://localhost:8080/",
          "height": 643
        },
        "id": "QusSOaETibMd",
        "outputId": "041e3828-2485-4e7e-b446-f336d9cb9372"
      },
      "source": [
        "#Visualize the missing values\n",
        "\n",
        "mn.matrix(df)"
      ],
      "execution_count": 287,
      "outputs": [
        {
          "output_type": "execute_result",
          "data": {
            "text/plain": [
              "<matplotlib.axes._subplots.AxesSubplot at 0x7fb01f5f3750>"
            ]
          },
          "metadata": {},
          "execution_count": 287
        },
        {
          "output_type": "display_data",
          "data": {
            "image/png": "[encoded data removed]",
            "text/plain": [
              "<Figure size 1800x720 with 2 Axes>"
            ]
          },
          "metadata": {
            "needs_background": "light"
          }
        }
      ]
    },
    {
      "cell_type": "code",
      "metadata": {
        "id": "WUak686eWURS",
        "outputId": "5c5b0053-334f-4038-af41-1b05f86da666",
        "colab": {
          "base_uri": "https://localhost:8080/"
        }
      },
      "source": [
        "# Check for duplicates\n",
        "\n",
        "df.duplicated( keep='first').sum()"
      ],
      "execution_count": 288,
      "outputs": [
        {
          "output_type": "execute_result",
          "data": {
            "text/plain": [
              "0"
            ]
          },
          "metadata": {},
          "execution_count": 288
        }
      ]
    },
    {
      "cell_type": "markdown",
      "metadata": {
        "id": "zbETGrDWyeLo"
      },
      "source": [
        "## **SECTION 2:**\n",
        "# **EXPLORATORY DATA ANALYSIS**"
      ]
    },
    {
      "cell_type": "code",
      "metadata": {
        "id": "-9IzByWwydaR",
        "outputId": "ccd9bbad-7bae-4735-8059-c628d72d40dd",
        "colab": {
          "base_uri": "https://localhost:8080/",
          "height": 300
        }
      },
      "source": [
        "df.describe()"
      ],
      "execution_count": 289,
      "outputs": [
        {
          "output_type": "execute_result",
          "data": {
            "text/html": [
              "<div>\n",
              "<style scoped>\n",
              "    .dataframe tbody tr th:only-of-type {\n",
              "        vertical-align: middle;\n",
              "    }\n",
              "\n",
              "    .dataframe tbody tr th {\n",
              "        vertical-align: top;\n",
              "    }\n",
              "\n",
              "    .dataframe thead th {\n",
              "        text-align: right;\n",
              "    }\n",
              "</style>\n",
              "<table border=\"1\" class=\"dataframe\">\n",
              "  <thead>\n",
              "    <tr style=\"text-align: right;\">\n",
              "      <th></th>\n",
              "      <th>ordernumber</th>\n",
              "      <th>quantityordered</th>\n",
              "      <th>priceeach</th>\n",
              "      <th>orderlinenumber</th>\n",
              "      <th>sales</th>\n",
              "      <th>ordermonth</th>\n",
              "      <th>orderyear</th>\n",
              "      <th>qtr_id</th>\n",
              "      <th>msrp</th>\n",
              "    </tr>\n",
              "  </thead>\n",
              "  <tbody>\n",
              "    <tr>\n",
              "      <th>count</th>\n",
              "      <td>2823.000000</td>\n",
              "      <td>2823.000000</td>\n",
              "      <td>2823.000000</td>\n",
              "      <td>2823.000000</td>\n",
              "      <td>2823.000000</td>\n",
              "      <td>2823.000000</td>\n",
              "      <td>2823.00000</td>\n",
              "      <td>2823.000000</td>\n",
              "      <td>2823.000000</td>\n",
              "    </tr>\n",
              "    <tr>\n",
              "      <th>mean</th>\n",
              "      <td>10258.725115</td>\n",
              "      <td>35.092809</td>\n",
              "      <td>83.658544</td>\n",
              "      <td>6.466171</td>\n",
              "      <td>3553.889072</td>\n",
              "      <td>7.092455</td>\n",
              "      <td>2003.81509</td>\n",
              "      <td>2.717676</td>\n",
              "      <td>100.715551</td>\n",
              "    </tr>\n",
              "    <tr>\n",
              "      <th>std</th>\n",
              "      <td>92.085478</td>\n",
              "      <td>9.741443</td>\n",
              "      <td>20.174277</td>\n",
              "      <td>4.225841</td>\n",
              "      <td>1841.865106</td>\n",
              "      <td>3.656633</td>\n",
              "      <td>0.69967</td>\n",
              "      <td>1.203878</td>\n",
              "      <td>40.187912</td>\n",
              "    </tr>\n",
              "    <tr>\n",
              "      <th>min</th>\n",
              "      <td>10100.000000</td>\n",
              "      <td>6.000000</td>\n",
              "      <td>26.880000</td>\n",
              "      <td>1.000000</td>\n",
              "      <td>482.130000</td>\n",
              "      <td>1.000000</td>\n",
              "      <td>2003.00000</td>\n",
              "      <td>1.000000</td>\n",
              "      <td>33.000000</td>\n",
              "    </tr>\n",
              "    <tr>\n",
              "      <th>25%</th>\n",
              "      <td>10180.000000</td>\n",
              "      <td>27.000000</td>\n",
              "      <td>68.860000</td>\n",
              "      <td>3.000000</td>\n",
              "      <td>2203.430000</td>\n",
              "      <td>4.000000</td>\n",
              "      <td>2003.00000</td>\n",
              "      <td>2.000000</td>\n",
              "      <td>68.000000</td>\n",
              "    </tr>\n",
              "    <tr>\n",
              "      <th>50%</th>\n",
              "      <td>10262.000000</td>\n",
              "      <td>35.000000</td>\n",
              "      <td>95.700000</td>\n",
              "      <td>6.000000</td>\n",
              "      <td>3184.800000</td>\n",
              "      <td>8.000000</td>\n",
              "      <td>2004.00000</td>\n",
              "      <td>3.000000</td>\n",
              "      <td>99.000000</td>\n",
              "    </tr>\n",
              "    <tr>\n",
              "      <th>75%</th>\n",
              "      <td>10333.500000</td>\n",
              "      <td>43.000000</td>\n",
              "      <td>100.000000</td>\n",
              "      <td>9.000000</td>\n",
              "      <td>4508.000000</td>\n",
              "      <td>11.000000</td>\n",
              "      <td>2004.00000</td>\n",
              "      <td>4.000000</td>\n",
              "      <td>124.000000</td>\n",
              "    </tr>\n",
              "    <tr>\n",
              "      <th>max</th>\n",
              "      <td>10425.000000</td>\n",
              "      <td>97.000000</td>\n",
              "      <td>100.000000</td>\n",
              "      <td>18.000000</td>\n",
              "      <td>14082.800000</td>\n",
              "      <td>12.000000</td>\n",
              "      <td>2005.00000</td>\n",
              "      <td>4.000000</td>\n",
              "      <td>214.000000</td>\n",
              "    </tr>\n",
              "  </tbody>\n",
              "</table>\n",
              "</div>"
            ],
            "text/plain": [
              "        ordernumber  quantityordered  ...       qtr_id         msrp\n",
              "count   2823.000000      2823.000000  ...  2823.000000  2823.000000\n",
              "mean   10258.725115        35.092809  ...     2.717676   100.715551\n",
              "std       92.085478         9.741443  ...     1.203878    40.187912\n",
              "min    10100.000000         6.000000  ...     1.000000    33.000000\n",
              "25%    10180.000000        27.000000  ...     2.000000    68.000000\n",
              "50%    10262.000000        35.000000  ...     3.000000    99.000000\n",
              "75%    10333.500000        43.000000  ...     4.000000   124.000000\n",
              "max    10425.000000        97.000000  ...     4.000000   214.000000\n",
              "\n",
              "[8 rows x 9 columns]"
            ]
          },
          "metadata": {},
          "execution_count": 289
        }
      ]
    },
    {
      "cell_type": "code",
      "metadata": {
        "id": "R35BtwPmXKbA",
        "outputId": "1459a090-a45e-4360-b151-80aafdc2752f",
        "colab": {
          "base_uri": "https://localhost:8080/"
        }
      },
      "source": [
        "# Check How Many Unique Values we have in the Data\n",
        "\n",
        "for col in df.columns:\n",
        "  # print(col)\n",
        "  print(f'The Unique values in {col} are  {df[col].nunique()}')"
      ],
      "execution_count": 290,
      "outputs": [
        {
          "output_type": "stream",
          "name": "stdout",
          "text": [
            "The Unique values in ordernumber are  307\n",
            "The Unique values in quantityordered are  58\n",
            "The Unique values in priceeach are  1016\n",
            "The Unique values in orderlinenumber are  18\n",
            "The Unique values in sales are  2763\n",
            "The Unique values in orderdate are  252\n",
            "The Unique values in ordermonth are  12\n",
            "The Unique values in orderyear are  3\n",
            "The Unique values in status are  6\n",
            "The Unique values in qtr_id are  4\n",
            "The Unique values in productline are  7\n",
            "The Unique values in msrp are  80\n",
            "The Unique values in productcode are  109\n",
            "The Unique values in customername are  92\n",
            "The Unique values in phone are  91\n",
            "The Unique values in addressline1 are  92\n",
            "The Unique values in city are  73\n",
            "The Unique values in state are  16\n",
            "The Unique values in postalcode are  73\n",
            "The Unique values in country are  19\n",
            "The Unique values in contactlastname are  77\n",
            "The Unique values in contactfirstname are  72\n",
            "The Unique values in dealsize are  3\n",
            "The Unique values in quarters are  4\n"
          ]
        }
      ]
    },
    {
      "cell_type": "code",
      "metadata": {
        "id": "QO4CI8SPTLLe",
        "outputId": "c19c9d82-f3b5-4730-ed95-061bec6b764d",
        "colab": {
          "base_uri": "https://localhost:8080/",
          "height": 607
        }
      },
      "source": [
        "plt.figure(figsize=(10,8))\n",
        "sns.countplot(df['status'],label=\"Count\")\n",
        "plt.title('Status of the Shipped Items',fontsize=20)\n",
        "plt.show()   "
      ],
      "execution_count": 291,
      "outputs": [
        {
          "output_type": "stream",
          "name": "stderr",
          "text": [
            "/usr/local/lib/python3.7/dist-packages/seaborn/_decorators.py:43: FutureWarning:\n",
            "\n",
            "Pass the following variable as a keyword arg: x. From version 0.12, the only valid positional argument will be `data`, and passing other arguments without an explicit keyword will result in an error or misinterpretation.\n",
            "\n"
          ]
        },
        {
          "output_type": "display_data",
          "data": {
            "image/png": "[encoded data removed]",
            "text/plain": [
              "<Figure size 720x576 with 1 Axes>"
            ]
          },
          "metadata": {
            "needs_background": "light"
          }
        }
      ]
    },
    {
      "cell_type": "code",
      "metadata": {
        "id": "KmOjlj59eWOB",
        "outputId": "30d6050f-579f-4710-ddf8-4db748a2b67d",
        "colab": {
          "base_uri": "https://localhost:8080/",
          "height": 237
        }
      },
      "source": [
        "table=pd.pivot_table(df,index='status',aggfunc={'sales':np.sum}).reset_index()\n",
        "table['sales']=table['sales'].round(0)\n",
        "table"
      ],
      "execution_count": 292,
      "outputs": [
        {
          "output_type": "execute_result",
          "data": {
            "text/html": [
              "<div>\n",
              "<style scoped>\n",
              "    .dataframe tbody tr th:only-of-type {\n",
              "        vertical-align: middle;\n",
              "    }\n",
              "\n",
              "    .dataframe tbody tr th {\n",
              "        vertical-align: top;\n",
              "    }\n",
              "\n",
              "    .dataframe thead th {\n",
              "        text-align: right;\n",
              "    }\n",
              "</style>\n",
              "<table border=\"1\" class=\"dataframe\">\n",
              "  <thead>\n",
              "    <tr style=\"text-align: right;\">\n",
              "      <th></th>\n",
              "      <th>status</th>\n",
              "      <th>sales</th>\n",
              "    </tr>\n",
              "  </thead>\n",
              "  <tbody>\n",
              "    <tr>\n",
              "      <th>0</th>\n",
              "      <td>Cancelled</td>\n",
              "      <td>194487.0</td>\n",
              "    </tr>\n",
              "    <tr>\n",
              "      <th>1</th>\n",
              "      <td>Disputed</td>\n",
              "      <td>72213.0</td>\n",
              "    </tr>\n",
              "    <tr>\n",
              "      <th>2</th>\n",
              "      <td>In Process</td>\n",
              "      <td>144730.0</td>\n",
              "    </tr>\n",
              "    <tr>\n",
              "      <th>3</th>\n",
              "      <td>On Hold</td>\n",
              "      <td>178979.0</td>\n",
              "    </tr>\n",
              "    <tr>\n",
              "      <th>4</th>\n",
              "      <td>Resolved</td>\n",
              "      <td>150718.0</td>\n",
              "    </tr>\n",
              "    <tr>\n",
              "      <th>5</th>\n",
              "      <td>Shipped</td>\n",
              "      <td>9291501.0</td>\n",
              "    </tr>\n",
              "  </tbody>\n",
              "</table>\n",
              "</div>"
            ],
            "text/plain": [
              "       status      sales\n",
              "0   Cancelled   194487.0\n",
              "1    Disputed    72213.0\n",
              "2  In Process   144730.0\n",
              "3     On Hold   178979.0\n",
              "4    Resolved   150718.0\n",
              "5     Shipped  9291501.0"
            ]
          },
          "metadata": {},
          "execution_count": 292
        }
      ]
    },
    {
      "cell_type": "code",
      "metadata": {
        "id": "RA65y6cbgErY"
      },
      "source": [
        "# co=df['status'].value_counts()\n",
        "# co.values"
      ],
      "execution_count": 293,
      "outputs": []
    },
    {
      "cell_type": "code",
      "metadata": {
        "id": "oFqrh_HoT44S",
        "outputId": "73ce45ba-313e-4d64-d883-23f648bd6c51",
        "colab": {
          "base_uri": "https://localhost:8080/"
        }
      },
      "source": [
        "# Drop all the Cancelled and Disputed order in our Data Frame.\n",
        "\n",
        "cols=['Cancelled','Disputed']\n",
        "\n",
        "for col in cols:\n",
        "  df.drop(df[df['status']==col].index,inplace=True)\n",
        "\n",
        "df['status'].unique()"
      ],
      "execution_count": 294,
      "outputs": [
        {
          "output_type": "execute_result",
          "data": {
            "text/plain": [
              "array(['Shipped', 'In Process', 'On Hold', 'Resolved'], dtype=object)"
            ]
          },
          "metadata": {},
          "execution_count": 294
        }
      ]
    },
    {
      "cell_type": "code",
      "metadata": {
        "id": "qdUOewZdkE0v",
        "outputId": "b5826ad4-2900-4ed7-9bd8-001092748d10",
        "colab": {
          "base_uri": "https://localhost:8080/",
          "height": 167
        }
      },
      "source": [
        "df.head(2)"
      ],
      "execution_count": 295,
      "outputs": [
        {
          "output_type": "execute_result",
          "data": {
            "text/html": [
              "<div>\n",
              "<style scoped>\n",
              "    .dataframe tbody tr th:only-of-type {\n",
              "        vertical-align: middle;\n",
              "    }\n",
              "\n",
              "    .dataframe tbody tr th {\n",
              "        vertical-align: top;\n",
              "    }\n",
              "\n",
              "    .dataframe thead th {\n",
              "        text-align: right;\n",
              "    }\n",
              "</style>\n",
              "<table border=\"1\" class=\"dataframe\">\n",
              "  <thead>\n",
              "    <tr style=\"text-align: right;\">\n",
              "      <th></th>\n",
              "      <th>ordernumber</th>\n",
              "      <th>quantityordered</th>\n",
              "      <th>priceeach</th>\n",
              "      <th>orderlinenumber</th>\n",
              "      <th>sales</th>\n",
              "      <th>orderdate</th>\n",
              "      <th>ordermonth</th>\n",
              "      <th>orderyear</th>\n",
              "      <th>status</th>\n",
              "      <th>qtr_id</th>\n",
              "      <th>productline</th>\n",
              "      <th>msrp</th>\n",
              "      <th>productcode</th>\n",
              "      <th>customername</th>\n",
              "      <th>phone</th>\n",
              "      <th>addressline1</th>\n",
              "      <th>city</th>\n",
              "      <th>state</th>\n",
              "      <th>postalcode</th>\n",
              "      <th>country</th>\n",
              "      <th>contactlastname</th>\n",
              "      <th>contactfirstname</th>\n",
              "      <th>dealsize</th>\n",
              "      <th>quarters</th>\n",
              "    </tr>\n",
              "  </thead>\n",
              "  <tbody>\n",
              "    <tr>\n",
              "      <th>0</th>\n",
              "      <td>10107</td>\n",
              "      <td>30</td>\n",
              "      <td>95.70</td>\n",
              "      <td>2</td>\n",
              "      <td>2871.0</td>\n",
              "      <td>2003-02-24</td>\n",
              "      <td>2</td>\n",
              "      <td>2003</td>\n",
              "      <td>Shipped</td>\n",
              "      <td>1</td>\n",
              "      <td>Motorcycles</td>\n",
              "      <td>95</td>\n",
              "      <td>S10_1678</td>\n",
              "      <td>Land of Toys Inc.</td>\n",
              "      <td>2125557818</td>\n",
              "      <td>897 Long Airport Avenue</td>\n",
              "      <td>NYC</td>\n",
              "      <td>NY</td>\n",
              "      <td>10022</td>\n",
              "      <td>USA</td>\n",
              "      <td>Yu</td>\n",
              "      <td>Kwai</td>\n",
              "      <td>Small</td>\n",
              "      <td>Q1</td>\n",
              "    </tr>\n",
              "    <tr>\n",
              "      <th>1</th>\n",
              "      <td>10121</td>\n",
              "      <td>34</td>\n",
              "      <td>81.35</td>\n",
              "      <td>5</td>\n",
              "      <td>2765.9</td>\n",
              "      <td>2003-05-07</td>\n",
              "      <td>5</td>\n",
              "      <td>2003</td>\n",
              "      <td>Shipped</td>\n",
              "      <td>2</td>\n",
              "      <td>Motorcycles</td>\n",
              "      <td>95</td>\n",
              "      <td>S10_1678</td>\n",
              "      <td>Reims Collectables</td>\n",
              "      <td>26.47.1555</td>\n",
              "      <td>59 rue de l'Abbaye</td>\n",
              "      <td>Reims</td>\n",
              "      <td>NaN</td>\n",
              "      <td>51100</td>\n",
              "      <td>France</td>\n",
              "      <td>Henriot</td>\n",
              "      <td>Paul</td>\n",
              "      <td>Small</td>\n",
              "      <td>Q2</td>\n",
              "    </tr>\n",
              "  </tbody>\n",
              "</table>\n",
              "</div>"
            ],
            "text/plain": [
              "   ordernumber  quantityordered  priceeach  ...  contactfirstname  dealsize quarters\n",
              "0        10107               30      95.70  ...              Kwai     Small       Q1\n",
              "1        10121               34      81.35  ...              Paul     Small       Q2\n",
              "\n",
              "[2 rows x 24 columns]"
            ]
          },
          "metadata": {},
          "execution_count": 295
        }
      ]
    },
    {
      "cell_type": "code",
      "metadata": {
        "id": "2SouzupCVNSw",
        "outputId": "605e1511-8a9a-4166-b94b-e95717f90236",
        "colab": {
          "base_uri": "https://localhost:8080/",
          "height": 1000
        }
      },
      "source": [
        "# Ploting  Distribution\n",
        "\n",
        "variable=['quantityordered','sales','priceeach','dealsize']\n",
        "for var in variable:\n",
        "  plt.figure(figsize=(10,6))\n",
        "  sns.set_style('darkgrid')\n",
        "  sns.histplot(df[var])\n",
        "  plt.title(f'{var} Distribution',fontsize= 20)\n",
        "  plt.xlabel(f'{var}')\n",
        "  plt.ylabel('Count')\n",
        "  plt.show()\n",
        "\n",
        "   "
      ],
      "execution_count": 296,
      "outputs": [
        {
          "output_type": "display_data",
          "data": {
            "image/png": "[encoded data removed]",
            "text/plain": [
              "<Figure size 720x432 with 1 Axes>"
            ]
          },
          "metadata": {
            "needs_background": "light"
          }
        },
        {
          "output_type": "display_data",
          "data": {
            "image/png": "[encoded data removed]",
            "text/plain": [
              "<Figure size 720x432 with 1 Axes>"
            ]
          },
          "metadata": {}
        },
        {
          "output_type": "display_data",
          "data": {
            "image/png": "[encoded data removed]",
            "text/plain": [
              "<Figure size 720x432 with 1 Axes>"
            ]
          },
          "metadata": {}
        },
        {
          "output_type": "display_data",
          "data": {
            "image/png": "[encoded data removed]",
            "text/plain": [
              "<Figure size 720x432 with 1 Axes>"
            ]
          },
          "metadata": {}
        }
      ]
    },
    {
      "cell_type": "markdown",
      "metadata": {
        "id": "hiIA4vCdoD-c"
      },
      "source": [
        "From the above Histo plots.\n",
        "\n",
        "1.   We see that majority of the orders range from 20 to  50 units--> we can infere majority of the orders are bulker.\n",
        "2.   The Majority of orders are for price $100.\n",
        "\n",
        "1.   The Sales are skwed to the Left.\n",
        "2.   The Medium Dealsize is highest No. of frequency in the distribution.\n",
        "\n",
        "\n",
        "\n",
        "\n",
        "\n",
        "\n",
        "\n",
        "\n"
      ]
    },
    {
      "cell_type": "code",
      "metadata": {
        "id": "aTmMWNvotpSO",
        "outputId": "55dd2289-4544-4f61-8168-c07f8a901b00",
        "colab": {
          "base_uri": "https://localhost:8080/",
          "height": 167
        }
      },
      "source": [
        "df.head(2)"
      ],
      "execution_count": 297,
      "outputs": [
        {
          "output_type": "execute_result",
          "data": {
            "text/html": [
              "<div>\n",
              "<style scoped>\n",
              "    .dataframe tbody tr th:only-of-type {\n",
              "        vertical-align: middle;\n",
              "    }\n",
              "\n",
              "    .dataframe tbody tr th {\n",
              "        vertical-align: top;\n",
              "    }\n",
              "\n",
              "    .dataframe thead th {\n",
              "        text-align: right;\n",
              "    }\n",
              "</style>\n",
              "<table border=\"1\" class=\"dataframe\">\n",
              "  <thead>\n",
              "    <tr style=\"text-align: right;\">\n",
              "      <th></th>\n",
              "      <th>ordernumber</th>\n",
              "      <th>quantityordered</th>\n",
              "      <th>priceeach</th>\n",
              "      <th>orderlinenumber</th>\n",
              "      <th>sales</th>\n",
              "      <th>orderdate</th>\n",
              "      <th>ordermonth</th>\n",
              "      <th>orderyear</th>\n",
              "      <th>status</th>\n",
              "      <th>qtr_id</th>\n",
              "      <th>productline</th>\n",
              "      <th>msrp</th>\n",
              "      <th>productcode</th>\n",
              "      <th>customername</th>\n",
              "      <th>phone</th>\n",
              "      <th>addressline1</th>\n",
              "      <th>city</th>\n",
              "      <th>state</th>\n",
              "      <th>postalcode</th>\n",
              "      <th>country</th>\n",
              "      <th>contactlastname</th>\n",
              "      <th>contactfirstname</th>\n",
              "      <th>dealsize</th>\n",
              "      <th>quarters</th>\n",
              "    </tr>\n",
              "  </thead>\n",
              "  <tbody>\n",
              "    <tr>\n",
              "      <th>0</th>\n",
              "      <td>10107</td>\n",
              "      <td>30</td>\n",
              "      <td>95.70</td>\n",
              "      <td>2</td>\n",
              "      <td>2871.0</td>\n",
              "      <td>2003-02-24</td>\n",
              "      <td>2</td>\n",
              "      <td>2003</td>\n",
              "      <td>Shipped</td>\n",
              "      <td>1</td>\n",
              "      <td>Motorcycles</td>\n",
              "      <td>95</td>\n",
              "      <td>S10_1678</td>\n",
              "      <td>Land of Toys Inc.</td>\n",
              "      <td>2125557818</td>\n",
              "      <td>897 Long Airport Avenue</td>\n",
              "      <td>NYC</td>\n",
              "      <td>NY</td>\n",
              "      <td>10022</td>\n",
              "      <td>USA</td>\n",
              "      <td>Yu</td>\n",
              "      <td>Kwai</td>\n",
              "      <td>Small</td>\n",
              "      <td>Q1</td>\n",
              "    </tr>\n",
              "    <tr>\n",
              "      <th>1</th>\n",
              "      <td>10121</td>\n",
              "      <td>34</td>\n",
              "      <td>81.35</td>\n",
              "      <td>5</td>\n",
              "      <td>2765.9</td>\n",
              "      <td>2003-05-07</td>\n",
              "      <td>5</td>\n",
              "      <td>2003</td>\n",
              "      <td>Shipped</td>\n",
              "      <td>2</td>\n",
              "      <td>Motorcycles</td>\n",
              "      <td>95</td>\n",
              "      <td>S10_1678</td>\n",
              "      <td>Reims Collectables</td>\n",
              "      <td>26.47.1555</td>\n",
              "      <td>59 rue de l'Abbaye</td>\n",
              "      <td>Reims</td>\n",
              "      <td>NaN</td>\n",
              "      <td>51100</td>\n",
              "      <td>France</td>\n",
              "      <td>Henriot</td>\n",
              "      <td>Paul</td>\n",
              "      <td>Small</td>\n",
              "      <td>Q2</td>\n",
              "    </tr>\n",
              "  </tbody>\n",
              "</table>\n",
              "</div>"
            ],
            "text/plain": [
              "   ordernumber  quantityordered  priceeach  ...  contactfirstname  dealsize quarters\n",
              "0        10107               30      95.70  ...              Kwai     Small       Q1\n",
              "1        10121               34      81.35  ...              Paul     Small       Q2\n",
              "\n",
              "[2 rows x 24 columns]"
            ]
          },
          "metadata": {},
          "execution_count": 297
        }
      ]
    },
    {
      "cell_type": "code",
      "metadata": {
        "id": "D01sJtndopIB",
        "outputId": "34c26b8d-d300-432f-f7be-038821d833a3",
        "colab": {
          "base_uri": "https://localhost:8080/",
          "height": 268
        }
      },
      "source": [
        "# Compare Sales  and the Quantity Order.\n",
        "\n",
        "sales_quantity=df.groupby('productline')[['quantityordered','sales']].sum().reset_index()\n",
        "sales_quantity"
      ],
      "execution_count": 298,
      "outputs": [
        {
          "output_type": "execute_result",
          "data": {
            "text/html": [
              "<div>\n",
              "<style scoped>\n",
              "    .dataframe tbody tr th:only-of-type {\n",
              "        vertical-align: middle;\n",
              "    }\n",
              "\n",
              "    .dataframe tbody tr th {\n",
              "        vertical-align: top;\n",
              "    }\n",
              "\n",
              "    .dataframe thead th {\n",
              "        text-align: right;\n",
              "    }\n",
              "</style>\n",
              "<table border=\"1\" class=\"dataframe\">\n",
              "  <thead>\n",
              "    <tr style=\"text-align: right;\">\n",
              "      <th></th>\n",
              "      <th>productline</th>\n",
              "      <th>quantityordered</th>\n",
              "      <th>sales</th>\n",
              "    </tr>\n",
              "  </thead>\n",
              "  <tbody>\n",
              "    <tr>\n",
              "      <th>0</th>\n",
              "      <td>Classic Cars</td>\n",
              "      <td>33325</td>\n",
              "      <td>3834359.98</td>\n",
              "    </tr>\n",
              "    <tr>\n",
              "      <th>1</th>\n",
              "      <td>Motorcycles</td>\n",
              "      <td>11404</td>\n",
              "      <td>1134566.44</td>\n",
              "    </tr>\n",
              "    <tr>\n",
              "      <th>2</th>\n",
              "      <td>Planes</td>\n",
              "      <td>10249</td>\n",
              "      <td>935727.02</td>\n",
              "    </tr>\n",
              "    <tr>\n",
              "      <th>3</th>\n",
              "      <td>Ships</td>\n",
              "      <td>7467</td>\n",
              "      <td>654701.08</td>\n",
              "    </tr>\n",
              "    <tr>\n",
              "      <th>4</th>\n",
              "      <td>Trains</td>\n",
              "      <td>2670</td>\n",
              "      <td>221161.05</td>\n",
              "    </tr>\n",
              "    <tr>\n",
              "      <th>5</th>\n",
              "      <td>Trucks and Buses</td>\n",
              "      <td>10777</td>\n",
              "      <td>1127789.84</td>\n",
              "    </tr>\n",
              "    <tr>\n",
              "      <th>6</th>\n",
              "      <td>Vintage Cars</td>\n",
              "      <td>20540</td>\n",
              "      <td>1857623.10</td>\n",
              "    </tr>\n",
              "  </tbody>\n",
              "</table>\n",
              "</div>"
            ],
            "text/plain": [
              "        productline  quantityordered       sales\n",
              "0      Classic Cars            33325  3834359.98\n",
              "1       Motorcycles            11404  1134566.44\n",
              "2            Planes            10249   935727.02\n",
              "3             Ships             7467   654701.08\n",
              "4            Trains             2670   221161.05\n",
              "5  Trucks and Buses            10777  1127789.84\n",
              "6      Vintage Cars            20540  1857623.10"
            ]
          },
          "metadata": {},
          "execution_count": 298
        }
      ]
    },
    {
      "cell_type": "code",
      "metadata": {
        "id": "lxULZh4dvRwM",
        "outputId": "e9f29f3c-bd9e-4e1d-9a6d-8f69608e1d85",
        "colab": {
          "base_uri": "https://localhost:8080/",
          "height": 143
        }
      },
      "source": [
        "# Calculate Year Sales Revenue\n",
        "\n",
        "year_sales=df.groupby('orderyear')[['sales']].sum().reset_index()\n",
        "year_sales"
      ],
      "execution_count": 299,
      "outputs": [
        {
          "output_type": "execute_result",
          "data": {
            "text/html": [
              "<div>\n",
              "<style scoped>\n",
              "    .dataframe tbody tr th:only-of-type {\n",
              "        vertical-align: middle;\n",
              "    }\n",
              "\n",
              "    .dataframe tbody tr th {\n",
              "        vertical-align: top;\n",
              "    }\n",
              "\n",
              "    .dataframe thead th {\n",
              "        text-align: right;\n",
              "    }\n",
              "</style>\n",
              "<table border=\"1\" class=\"dataframe\">\n",
              "  <thead>\n",
              "    <tr style=\"text-align: right;\">\n",
              "      <th></th>\n",
              "      <th>orderyear</th>\n",
              "      <th>sales</th>\n",
              "    </tr>\n",
              "  </thead>\n",
              "  <tbody>\n",
              "    <tr>\n",
              "      <th>0</th>\n",
              "      <td>2003</td>\n",
              "      <td>3468268.62</td>\n",
              "    </tr>\n",
              "    <tr>\n",
              "      <th>1</th>\n",
              "      <td>2004</td>\n",
              "      <td>4578386.04</td>\n",
              "    </tr>\n",
              "    <tr>\n",
              "      <th>2</th>\n",
              "      <td>2005</td>\n",
              "      <td>1719273.85</td>\n",
              "    </tr>\n",
              "  </tbody>\n",
              "</table>\n",
              "</div>"
            ],
            "text/plain": [
              "   orderyear       sales\n",
              "0       2003  3468268.62\n",
              "1       2004  4578386.04\n",
              "2       2005  1719273.85"
            ]
          },
          "metadata": {},
          "execution_count": 299
        }
      ]
    },
    {
      "cell_type": "code",
      "metadata": {
        "id": "fS5KJoBmxNVl",
        "outputId": "6c137e9a-f484-48b6-a582-d6419320f355",
        "colab": {
          "base_uri": "https://localhost:8080/",
          "height": 607
        }
      },
      "source": [
        "# Sales Trend Per Month\n",
        "sales_trend=df.groupby(['ordermonth','orderyear']).agg({'sales':np.sum})\n",
        "sales_trend=sales_trend.reset_index()\n",
        "sales_trend.columns=['month','year','sale']\n",
        "\n",
        "\n",
        "# plt.style.use('fivethirtyeight')\n",
        "sns.set_style('darkgrid')\n",
        "plt.figure(figsize=(15,8))\n",
        "lp=sns.lineplot('month','sale',hue='year',data=sales_trend,palette=[\"r\",'g','b'])\n",
        "lp.legend(loc='upper right')\n",
        "plt.title('Monthly Sales',fontsize=20)\n",
        "plt.xlabel('Month')\n",
        "plt.ticklabel_format(style='plain')\n",
        "plt.ylabel('Sales')\n",
        "plt.show()"
      ],
      "execution_count": 300,
      "outputs": [
        {
          "output_type": "stream",
          "name": "stderr",
          "text": [
            "/usr/local/lib/python3.7/dist-packages/seaborn/_decorators.py:43: FutureWarning:\n",
            "\n",
            "Pass the following variables as keyword args: x, y. From version 0.12, the only valid positional argument will be `data`, and passing other arguments without an explicit keyword will result in an error or misinterpretation.\n",
            "\n"
          ]
        },
        {
          "output_type": "display_data",
          "data": {
            "image/png": "[encoded data removed]",
            "text/plain": [
              "<Figure size 1080x576 with 1 Axes>"
            ]
          },
          "metadata": {}
        }
      ]
    },
    {
      "cell_type": "code",
      "metadata": {
        "id": "a6BFYspw8yI0",
        "outputId": "1d529633-4399-49ba-c8c0-54313f852ee2",
        "colab": {
          "base_uri": "https://localhost:8080/",
          "height": 405
        }
      },
      "source": [
        "salesgrowth=sales_trend.sort_values(['year','month'],ascending=True)\n",
        "# .reset_index(drop=True,inplace=True)\n",
        "salesgrowth.reset_index(drop=True,inplace=True)\n",
        "salesgrowth['growthrate']=salesgrowth['sale'].pct_change()\n",
        "# salesgrowth\n",
        "\n",
        "fig, ax = plt.subplots(figsize=(15,6))\n",
        "sns.lineplot(x='month',y='growthrate',marker='o',hue='year',ax=ax,data=salesgrowth)\n",
        "ax1=ax.twinx()\n",
        "sns.barplot(x='year',y='sale',data=salesgrowth,ax=ax1)\n"
      ],
      "execution_count": 309,
      "outputs": [
        {
          "output_type": "execute_result",
          "data": {
            "text/plain": [
              "<matplotlib.axes._subplots.AxesSubplot at 0x7fb02238f110>"
            ]
          },
          "metadata": {},
          "execution_count": 309
        },
        {
          "output_type": "display_data",
          "data": {
            "image/png": "[encoded data removed]",
            "text/plain": [
              "<Figure size 1080x432 with 2 Axes>"
            ]
          },
          "metadata": {}
        }
      ]
    },
    {
      "cell_type": "code",
      "metadata": {
        "id": "Nb0Q5umO-4-b",
        "outputId": "d4d1dcdc-5442-46ca-fc4f-fbe086d600ff",
        "colab": {
          "base_uri": "https://localhost:8080/",
          "height": 330
        }
      },
      "source": [
        "df.head()"
      ],
      "execution_count": 302,
      "outputs": [
        {
          "output_type": "execute_result",
          "data": {
            "text/html": [
              "<div>\n",
              "<style scoped>\n",
              "    .dataframe tbody tr th:only-of-type {\n",
              "        vertical-align: middle;\n",
              "    }\n",
              "\n",
              "    .dataframe tbody tr th {\n",
              "        vertical-align: top;\n",
              "    }\n",
              "\n",
              "    .dataframe thead th {\n",
              "        text-align: right;\n",
              "    }\n",
              "</style>\n",
              "<table border=\"1\" class=\"dataframe\">\n",
              "  <thead>\n",
              "    <tr style=\"text-align: right;\">\n",
              "      <th></th>\n",
              "      <th>ordernumber</th>\n",
              "      <th>quantityordered</th>\n",
              "      <th>priceeach</th>\n",
              "      <th>orderlinenumber</th>\n",
              "      <th>sales</th>\n",
              "      <th>orderdate</th>\n",
              "      <th>ordermonth</th>\n",
              "      <th>orderyear</th>\n",
              "      <th>status</th>\n",
              "      <th>qtr_id</th>\n",
              "      <th>productline</th>\n",
              "      <th>msrp</th>\n",
              "      <th>productcode</th>\n",
              "      <th>customername</th>\n",
              "      <th>phone</th>\n",
              "      <th>addressline1</th>\n",
              "      <th>city</th>\n",
              "      <th>state</th>\n",
              "      <th>postalcode</th>\n",
              "      <th>country</th>\n",
              "      <th>contactlastname</th>\n",
              "      <th>contactfirstname</th>\n",
              "      <th>dealsize</th>\n",
              "      <th>quarters</th>\n",
              "    </tr>\n",
              "  </thead>\n",
              "  <tbody>\n",
              "    <tr>\n",
              "      <th>0</th>\n",
              "      <td>10107</td>\n",
              "      <td>30</td>\n",
              "      <td>95.70</td>\n",
              "      <td>2</td>\n",
              "      <td>2871.00</td>\n",
              "      <td>2003-02-24</td>\n",
              "      <td>2</td>\n",
              "      <td>2003</td>\n",
              "      <td>Shipped</td>\n",
              "      <td>1</td>\n",
              "      <td>Motorcycles</td>\n",
              "      <td>95</td>\n",
              "      <td>S10_1678</td>\n",
              "      <td>Land of Toys Inc.</td>\n",
              "      <td>2125557818</td>\n",
              "      <td>897 Long Airport Avenue</td>\n",
              "      <td>NYC</td>\n",
              "      <td>NY</td>\n",
              "      <td>10022</td>\n",
              "      <td>USA</td>\n",
              "      <td>Yu</td>\n",
              "      <td>Kwai</td>\n",
              "      <td>Small</td>\n",
              "      <td>Q1</td>\n",
              "    </tr>\n",
              "    <tr>\n",
              "      <th>1</th>\n",
              "      <td>10121</td>\n",
              "      <td>34</td>\n",
              "      <td>81.35</td>\n",
              "      <td>5</td>\n",
              "      <td>2765.90</td>\n",
              "      <td>2003-05-07</td>\n",
              "      <td>5</td>\n",
              "      <td>2003</td>\n",
              "      <td>Shipped</td>\n",
              "      <td>2</td>\n",
              "      <td>Motorcycles</td>\n",
              "      <td>95</td>\n",
              "      <td>S10_1678</td>\n",
              "      <td>Reims Collectables</td>\n",
              "      <td>26.47.1555</td>\n",
              "      <td>59 rue de l'Abbaye</td>\n",
              "      <td>Reims</td>\n",
              "      <td>NaN</td>\n",
              "      <td>51100</td>\n",
              "      <td>France</td>\n",
              "      <td>Henriot</td>\n",
              "      <td>Paul</td>\n",
              "      <td>Small</td>\n",
              "      <td>Q2</td>\n",
              "    </tr>\n",
              "    <tr>\n",
              "      <th>2</th>\n",
              "      <td>10134</td>\n",
              "      <td>41</td>\n",
              "      <td>94.74</td>\n",
              "      <td>2</td>\n",
              "      <td>3884.34</td>\n",
              "      <td>2003-07-01</td>\n",
              "      <td>7</td>\n",
              "      <td>2003</td>\n",
              "      <td>Shipped</td>\n",
              "      <td>3</td>\n",
              "      <td>Motorcycles</td>\n",
              "      <td>95</td>\n",
              "      <td>S10_1678</td>\n",
              "      <td>Lyon Souveniers</td>\n",
              "      <td>+33 1 46 62 7555</td>\n",
              "      <td>27 rue du Colonel Pierre Avia</td>\n",
              "      <td>Paris</td>\n",
              "      <td>NaN</td>\n",
              "      <td>75508</td>\n",
              "      <td>France</td>\n",
              "      <td>Da Cunha</td>\n",
              "      <td>Daniel</td>\n",
              "      <td>Medium</td>\n",
              "      <td>Q3</td>\n",
              "    </tr>\n",
              "    <tr>\n",
              "      <th>3</th>\n",
              "      <td>10145</td>\n",
              "      <td>45</td>\n",
              "      <td>83.26</td>\n",
              "      <td>6</td>\n",
              "      <td>3746.70</td>\n",
              "      <td>2003-08-25</td>\n",
              "      <td>8</td>\n",
              "      <td>2003</td>\n",
              "      <td>Shipped</td>\n",
              "      <td>3</td>\n",
              "      <td>Motorcycles</td>\n",
              "      <td>95</td>\n",
              "      <td>S10_1678</td>\n",
              "      <td>Toys4GrownUps.com</td>\n",
              "      <td>6265557265</td>\n",
              "      <td>78934 Hillside Dr.</td>\n",
              "      <td>Pasadena</td>\n",
              "      <td>CA</td>\n",
              "      <td>90003</td>\n",
              "      <td>USA</td>\n",
              "      <td>Young</td>\n",
              "      <td>Julie</td>\n",
              "      <td>Medium</td>\n",
              "      <td>Q3</td>\n",
              "    </tr>\n",
              "    <tr>\n",
              "      <th>4</th>\n",
              "      <td>10159</td>\n",
              "      <td>49</td>\n",
              "      <td>100.00</td>\n",
              "      <td>14</td>\n",
              "      <td>5205.27</td>\n",
              "      <td>2003-10-10</td>\n",
              "      <td>10</td>\n",
              "      <td>2003</td>\n",
              "      <td>Shipped</td>\n",
              "      <td>4</td>\n",
              "      <td>Motorcycles</td>\n",
              "      <td>95</td>\n",
              "      <td>S10_1678</td>\n",
              "      <td>Corporate Gift Ideas Co.</td>\n",
              "      <td>6505551386</td>\n",
              "      <td>7734 Strong St.</td>\n",
              "      <td>San Francisco</td>\n",
              "      <td>CA</td>\n",
              "      <td>NaN</td>\n",
              "      <td>USA</td>\n",
              "      <td>Brown</td>\n",
              "      <td>Julie</td>\n",
              "      <td>Medium</td>\n",
              "      <td>Q4</td>\n",
              "    </tr>\n",
              "  </tbody>\n",
              "</table>\n",
              "</div>"
            ],
            "text/plain": [
              "   ordernumber  quantityordered  priceeach  ...  contactfirstname  dealsize quarters\n",
              "0        10107               30      95.70  ...              Kwai     Small       Q1\n",
              "1        10121               34      81.35  ...              Paul     Small       Q2\n",
              "2        10134               41      94.74  ...            Daniel    Medium       Q3\n",
              "3        10145               45      83.26  ...             Julie    Medium       Q3\n",
              "4        10159               49     100.00  ...             Julie    Medium       Q4\n",
              "\n",
              "[5 rows x 24 columns]"
            ]
          },
          "metadata": {},
          "execution_count": 302
        }
      ]
    },
    {
      "cell_type": "code",
      "metadata": {
        "id": "4ICXXU9J8Ao3",
        "outputId": "039aa59d-3db1-4d00-befc-e1fcb2cb8b0c",
        "colab": {
          "base_uri": "https://localhost:8080/",
          "height": 131
        }
      },
      "source": [
        "# Compare Growth Rate and Actual Sales\n",
        "\n",
        "df['growthrate']="
      ],
      "execution_count": 303,
      "outputs": [
        {
          "output_type": "error",
          "ename": "SyntaxError",
          "evalue": "ignored",
          "traceback": [
            "\u001b[0;36m  File \u001b[0;32m\"<ipython-input-303-af7c46ea6286>\"\u001b[0;36m, line \u001b[0;32m3\u001b[0m\n\u001b[0;31m    df['growthrate']=\u001b[0m\n\u001b[0m                     ^\u001b[0m\n\u001b[0;31mSyntaxError\u001b[0m\u001b[0;31m:\u001b[0m invalid syntax\n"
          ]
        }
      ]
    },
    {
      "cell_type": "code",
      "metadata": {
        "id": "aVaR4GyuxJUi"
      },
      "source": [
        "df.head()"
      ],
      "execution_count": null,
      "outputs": []
    },
    {
      "cell_type": "code",
      "metadata": {
        "id": "t5ilu-uYvyIq"
      },
      "source": [
        "# Sales Trend for product line\n",
        "\n",
        "\n",
        "\n"
      ],
      "execution_count": null,
      "outputs": []
    }
  ]
}