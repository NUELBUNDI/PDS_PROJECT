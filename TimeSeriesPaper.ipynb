{
  "nbformat": 4,
  "nbformat_minor": 0,
  "metadata": {
    "colab": {
      "name": "TimeSeriesPaper.ipynb",
      "private_outputs": true,
      "provenance": [],
      "authorship_tag": "ABX9TyNUQtETKJTBdEfvB3K9vDyo",
      "include_colab_link": true
    },
    "kernelspec": {
      "name": "python3",
      "display_name": "Python 3"
    },
    "language_info": {
      "name": "python"
    },
    "accelerator": "GPU"
  },
  "cells": [
    {
      "cell_type": "markdown",
      "metadata": {
        "id": "view-in-github",
        "colab_type": "text"
      },
      "source": [
        "<a href=\"https://colab.research.google.com/github/NUELBUNDI/PDS_PROJECT/blob/main/TimeSeriesPaper.ipynb\" target=\"_parent\"><img src=\"https://colab.research.google.com/assets/colab-badge.svg\" alt=\"Open In Colab\"/></a>"
      ]
    },
    {
      "cell_type": "code",
      "execution_count": null,
      "metadata": {
        "id": "r0VhdJmWoHAZ"
      },
      "outputs": [],
      "source": [
        "%matplotlib inline\n",
        "from bokeh.io import output_notebook\n",
        "from bokeh import models, palettes, transform\n",
        "from bokeh.plotting import figure, show\n",
        "import pandas as pd\n",
        "import pandas_profiling\n",
        "import matplotlib.pyplot as plt\n",
        "import numpy as np\n",
        "import seaborn as sns\n",
        "from sklearn import cluster, decomposition, pipeline, preprocessing\n",
        "import statsmodels\n",
        "import missingno as mn\n",
        "import plotly.offline as pyo\n",
        "import plotly.express as px\n",
        "import datetime\n",
        "import plotly.graph_objects as go\n",
        "from statsmodels.tsa.stattools import adfuller\n",
        "from statsmodels.tsa.seasonal import seasonal_decompose\n",
        "from statsmodels.graphics.tsaplots import plot_acf ,plot_pacf\n",
        "from statsmodels.tsa.arima_model import ARIMA"
      ]
    },
    {
      "cell_type": "code",
      "source": [
        "# Read The Pd\n",
        "\n",
        "df=pd.read_csv('https://raw.githubusercontent.com/NUELBUNDI/PDS_PROJECT/main/SalesPerMonthWst.csv')\n",
        "df.columns=['date','sales']\n",
        "df.head(1)"
      ],
      "metadata": {
        "id": "Se9Wj5rpq4Hp"
      },
      "execution_count": null,
      "outputs": []
    },
    {
      "cell_type": "code",
      "source": [
        "df['date']=pd.to_datetime(df['date'])\n",
        "df.reset_index()\n",
        "df=df.set_index('date')\n",
        "ts=df['sales']\n",
        "ts.head()\n"
      ],
      "metadata": {
        "id": "N0IY5xpHy3_s"
      },
      "execution_count": null,
      "outputs": []
    },
    {
      "cell_type": "code",
      "source": [
        "# Create Train and Test Data\n",
        "\n",
        "train_data=ts['2005-01-02':'2020-01-01']\n",
        "\n",
        "test_data=ts['2020-01-02':'2021-01-11']"
      ],
      "metadata": {
        "id": "4qmZDQup0BL3"
      },
      "execution_count": null,
      "outputs": []
    },
    {
      "cell_type": "code",
      "source": [
        "train_data.plot(figsize=(10,5))\n",
        "plt.show()"
      ],
      "metadata": {
        "id": "aa4R6eOJ0hTW"
      },
      "execution_count": null,
      "outputs": []
    },
    {
      "cell_type": "code",
      "source": [
        "# ADF TEST for stationarity\n",
        "\n",
        "def checks_stationarity(ts_data):\n",
        "  result = adfuller(ts_data)\n",
        "  print('ADF Statistic: %f' % result[0])\n",
        "  print('p-value: %f' % result[1])\n",
        "  print(f'Inference: The time series is {\"non-\" if result[1]>=0.05 else \"\"}stationary')\n",
        "\n",
        "res=checks_stationarity(train_data)\n",
        "res"
      ],
      "metadata": {
        "id": "QFMna53l1TOv"
      },
      "execution_count": null,
      "outputs": []
    },
    {
      "cell_type": "code",
      "source": [
        "# Check the First Order Difference\n",
        "train_data_diff=train_data.diff().dropna()\n",
        "\n",
        "checks_stationarity(train_data_diff)"
      ],
      "metadata": {
        "id": "_8Ka0f0N22j7"
      },
      "execution_count": null,
      "outputs": []
    },
    {
      "cell_type": "code",
      "source": [
        "#Determine P and Q by Plotting the ACF AND PACF\n",
        "def acf_pacf_plot(ts_data):\n",
        "  plot_pacf(ts_data)\n",
        "  plot_acf(ts_data)\n",
        "\n",
        "acf_pacf_plot(train_data_diff)\n",
        "\n"
      ],
      "metadata": {
        "id": "Bauv0gjw38zw"
      },
      "execution_count": null,
      "outputs": []
    },
    {
      "cell_type": "code",
      "source": [
        "train_data"
      ],
      "metadata": {
        "id": "11FiS1S77Cr9"
      },
      "execution_count": null,
      "outputs": []
    },
    {
      "cell_type": "code",
      "source": [
        "# TRAIN ARIMA MODEL\n",
        "order=(2,1,2)\n",
        "model=ARIMA(endog=train_data,order=order)\n",
        "fit=model.fit()"
      ],
      "metadata": {
        "id": "suL2efR66TyG"
      },
      "execution_count": null,
      "outputs": []
    },
    {
      "cell_type": "code",
      "source": [
        "fit.summary()"
      ],
      "metadata": {
        "id": "lYJ8JyWx7efc"
      },
      "execution_count": null,
      "outputs": []
    },
    {
      "cell_type": "code",
      "source": [
        "https://www.machinelearningplus.com/resources/arima/arima-forecast-test-results/\n",
        "https://www.machinelearningplus.com/resources/arima/implement-arima-model/\n",
        "https://www.machinelearningplus.com/time-series/time-series-analysis-python/\n",
        "https://www.machinelearningplus.com/time-series/arima-model-time-series-forecasting-python/"
      ],
      "metadata": {
        "id": "GbPFeUlb_2md"
      },
      "execution_count": null,
      "outputs": []
    }
  ]
}