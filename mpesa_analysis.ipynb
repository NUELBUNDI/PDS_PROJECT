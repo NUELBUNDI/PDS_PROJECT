{
  "nbformat": 4,
  "nbformat_minor": 0,
  "metadata": {
    "colab": {
      "name": "mpesa_analysis.ipynb",
      "provenance": [],
      "authorship_tag": "ABX9TyPjhbzu8bIPeB1SVniTRZM7",
      "include_colab_link": true
    },
    "kernelspec": {
      "name": "python3",
      "display_name": "Python 3"
    },
    "language_info": {
      "name": "python"
    }
  },
  "cells": [
    {
      "cell_type": "markdown",
      "metadata": {
        "id": "view-in-github",
        "colab_type": "text"
      },
      "source": [
        "<a href=\"https://colab.research.google.com/github/NUELBUNDI/PDS_PROJECT/blob/main/mpesa_analysis.ipynb\" target=\"_parent\"><img src=\"https://colab.research.google.com/assets/colab-badge.svg\" alt=\"Open In Colab\"/></a>"
      ]
    },
    {
      "cell_type": "code",
      "execution_count": 1,
      "metadata": {
        "id": "d630C5r__UEb"
      },
      "outputs": [],
      "source": [
        "import io\n",
        "import pandas as pd\n",
        "import numpy as np\n",
        "import seaborn as sns\n",
        "import matplotlib.pyplot as plt\n"
      ]
    },
    {
      "cell_type": "code",
      "source": [
        "url=\"https://raw.githubusercontent.com/NUELBUNDI/PDS_PROJECT/main/mpesa_payment.csv\"\n",
        "df=pd.read_csv(url,encoding = \"ISO-8859-1\")\n",
        "\n",
        "# df.head(1)"
      ],
      "metadata": {
        "id": "87AM1ZX9G_FO"
      },
      "execution_count": 2,
      "outputs": []
    },
    {
      "cell_type": "code",
      "source": [
        "df.to_csv(\"data.csv\")"
      ],
      "metadata": {
        "id": "fYNs7WfgPnoC"
      },
      "execution_count": 4,
      "outputs": []
    },
    {
      "cell_type": "code",
      "source": [
        "# Clean Data\n",
        "\n",
        "class  clean_data:\n",
        "\n",
        "  def __init__(self,data_frame):\n",
        "    self.data_frame=data_frame\n",
        "\n",
        "  def clean_data(self):\n",
        "      # rename the columns name\n",
        "      col_name=[]\n",
        "      new_colname=[]\n",
        "      for colname in self.data_frame.columns:\n",
        "        col_name.append(colname)\n",
        "        output=colname.replace(' ','').replace('.','').lower()\n",
        "        new_colname.append(output)\n",
        "      col_rename_dict={col_name[i]:new_colname[i] for i in range(len(new_colname))}\n",
        "      self.data_frame.rename(columns=col_rename_dict,inplace=True)\n",
        "      # Subset the data\n",
        "      df2=self.data_frame[['postingdate','sourcecode','documentno','externaldocumentno','amount','businessunitcode','departmentcode','balaccountno','description','userid']]\n",
        "\n",
        "      return df2                     \n",
        "\n",
        "obj=clean_data(df)\n",
        "\n",
        "df2=obj.clean_data()\n"
      ],
      "metadata": {
        "id": "lnHRacydLBpG"
      },
      "execution_count": 5,
      "outputs": []
    },
    {
      "cell_type": "code",
      "source": [
        "def convert_amount(val):\n",
        "  res=val.replace(',','').replace('-','')\n",
        "  return res\n",
        "df2['amount']=df2['amount'].apply(lambda x :convert_amount(x)).astype('float')\n",
        "df=df2\n",
        "\n",
        "df.head(2)\n"
      ],
      "metadata": {
        "id": "DCywbsMt_T1u"
      },
      "execution_count": null,
      "outputs": []
    },
    {
      "cell_type": "code",
      "source": [
        "pd.set_option('mode.chained_assignment', None)\n",
        "\n",
        "df['businessunitcode']=df['businessunitcode'].astype('str')\n",
        "df['departmentcode']=df['departmentcode'].astype('str')"
      ],
      "metadata": {
        "id": "iwq2lCS5A36N"
      },
      "execution_count": 7,
      "outputs": []
    },
    {
      "cell_type": "code",
      "source": [
        "# Drop all reversed Entries\n",
        "\n",
        "df_reversed=df[df['sourcecode']=='REVERSAL']\n",
        "\n",
        "doc_no_reversed=[]\n",
        "for x in df_reversed['documentno']:\n",
        "  doc_no_reversed.append(x)\n",
        "\n",
        "rows_to_drop=df.query('documentno==@doc_no_reversed')\n",
        "indexName=rows_to_drop.index\n",
        "df.drop(indexName, inplace=True)\n",
        "\n",
        "df['sourcecode'].unique()\n"
      ],
      "metadata": {
        "id": "JLzCYhRGqm_V",
        "outputId": "c494361c-47f8-4467-b0d8-cf6adee65460",
        "colab": {
          "base_uri": "https://localhost:8080/"
        }
      },
      "execution_count": 8,
      "outputs": [
        {
          "output_type": "execute_result",
          "data": {
            "text/plain": [
              "array(['GENJNL', 'PAYMENTJNL', 'JOBGLJNL', 'CASHRECJNL'], dtype=object)"
            ]
          },
          "metadata": {},
          "execution_count": 8
        }
      ]
    },
    {
      "cell_type": "code",
      "source": [
        "# Drop all sweep posted to that account\n",
        "\n",
        "drop_mpesa_sweep=df.query('balaccountno==\"B302010*\" | balaccountno==\"B301010\"').index\n",
        "df.drop(drop_mpesa_sweep,inplace=True)"
      ],
      "metadata": {
        "id": "rRkcwRGbG_mh"
      },
      "execution_count": 9,
      "outputs": []
    },
    {
      "cell_type": "code",
      "source": [
        "# Categorise the Document No.\n",
        "\n",
        "df['type']=df['documentno'].str[:3]\n",
        "\n",
        "for x in df['type'].unique():\n",
        "    print(x,end=',')\n"
      ],
      "metadata": {
        "id": "Bl--iz-NCTd6",
        "outputId": "978544ee-5586-43eb-fb6e-2cd2268968c5",
        "colab": {
          "base_uri": "https://localhost:8080/"
        }
      },
      "execution_count": 10,
      "outputs": [
        {
          "output_type": "stream",
          "name": "stdout",
          "text": [
            "MED,PC0,FLT,CRE,GJN,JJN,R00,"
          ]
        }
      ]
    },
    {
      "cell_type": "code",
      "source": [
        "# Casual Payment\n",
        "df_casuals=df.query('balaccountno==\"P100500\" & type==\"GJN\"')\n",
        "mask1=df_casuals['description'].str.contains('casual',case=False,na=False)\n",
        "mask2=df_casuals['description'].str.contains('Casual Pay',case=False,na=False)\n",
        "mask3 =df_casuals['description'].str.contains('Labour',case=False,na=False)\n",
        "\n",
        "df_casuls=df_casuals[mask1 | mask2 | mask3].head(2)\n"
      ],
      "metadata": {
        "id": "rsN7R8xvIiH_"
      },
      "execution_count": 19,
      "outputs": []
    },
    {
      "cell_type": "code",
      "source": [
        "# Subset other categories of payments.\n",
        "\n",
        "df_salary=df.query('balaccountno==\"C200010\" & type==\"GJN\"')\n",
        "df_medical=df.query('type==\"MED\"')\n",
        "df_pettycash=df.query('type==\"PC0\"')\n",
        "df_float=df.query('type==\"FLT\"')\n",
        "df_customer_refund=df.query('type==\"CRE\"')\n"
      ],
      "metadata": {
        "id": "GcXSkOmBMeFC"
      },
      "execution_count": 27,
      "outputs": []
    },
    {
      "cell_type": "code",
      "source": [
        "#Import the files to excel\n",
        "\n",
        "\n",
        "#create a Pandas Excel writer using XlsxWriter as the engine\n",
        "writer=pd.ExcelWriter('B330020.xlsx',engine='xlsxwriter')\n",
        "\n",
        "#write each DataFrame to a specific sheet\n",
        "df_casuals.to_excel(writer,sheet_name='Casuals',index=False)\n",
        "df_salary.to_excel(writer,sheet_name='Salary',index=False)\n",
        "df_medical.to_excel(writer,sheet_name='Medical',index=False)\n",
        "df_pettycash.to_excel(writer,sheet_name='Pettycash',index=False)\n",
        "df_float.to_excel(writer,sheet_name='Float',index=False)\n",
        "df_customer_refund.to_excel(writer,sheet_name='Customer Refund',index=False)\n",
        "\n",
        "#close the Pandas Excel writer and output the Excel file\n",
        "writer.save()\n"
      ],
      "metadata": {
        "id": "X2ZhrJ8To6Ml"
      },
      "execution_count": 30,
      "outputs": []
    }
  ]
}