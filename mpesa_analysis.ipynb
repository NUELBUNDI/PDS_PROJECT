{
  "nbformat": 4,
  "nbformat_minor": 0,
  "metadata": {
    "colab": {
      "name": "mpesa_analysis.ipynb",
      "provenance": [],
      "authorship_tag": "ABX9TyPw8mH329WEL5T5gspz9W79",
      "include_colab_link": true
    },
    "kernelspec": {
      "name": "python3",
      "display_name": "Python 3"
    },
    "language_info": {
      "name": "python"
    }
  },
  "cells": [
    {
      "cell_type": "markdown",
      "metadata": {
        "id": "view-in-github",
        "colab_type": "text"
      },
      "source": [
        "<a href=\"https://colab.research.google.com/github/NUELBUNDI/PDS_PROJECT/blob/main/mpesa_analysis.ipynb\" target=\"_parent\"><img src=\"https://colab.research.google.com/assets/colab-badge.svg\" alt=\"Open In Colab\"/></a>"
      ]
    },
    {
      "cell_type": "code",
      "execution_count": 92,
      "metadata": {
        "id": "d630C5r__UEb"
      },
      "outputs": [],
      "source": [
        "import io\n",
        "import pandas as pd\n",
        "import numpy as np\n",
        "import seaborn as sns\n",
        "import matplotlib.pyplot as plt\n"
      ]
    },
    {
      "cell_type": "code",
      "source": [
        "url=\"https://raw.githubusercontent.com/NUELBUNDI/PDS_PROJECT/main/mpesa_payment.csv\"\n",
        "df=pd.read_csv(url,encoding = \"ISO-8859-1\")\n",
        "\n",
        "# df.head(1)"
      ],
      "metadata": {
        "id": "87AM1ZX9G_FO"
      },
      "execution_count": 93,
      "outputs": []
    },
    {
      "cell_type": "code",
      "source": [
        "df.to_csv(\"data.csv\")"
      ],
      "metadata": {
        "id": "fYNs7WfgPnoC"
      },
      "execution_count": 94,
      "outputs": []
    },
    {
      "cell_type": "markdown",
      "source": [
        "##**Data  Clean-Up**"
      ],
      "metadata": {
        "id": "8E0-dh7iupT6"
      }
    },
    {
      "cell_type": "code",
      "source": [
        "# Clean Data\n",
        "\n",
        "class  clean_data:\n",
        "\n",
        "  def __init__(self,data_frame):\n",
        "    self.data_frame=data_frame\n",
        "\n",
        "  def clean_data(self):\n",
        "      # rename the columns name\n",
        "      col_name=[]\n",
        "      new_colname=[]\n",
        "      for colname in self.data_frame.columns:\n",
        "        col_name.append(colname)\n",
        "        output=colname.replace(' ','').replace('.','').lower()\n",
        "        new_colname.append(output)\n",
        "      col_rename_dict={col_name[i]:new_colname[i] for i in range(len(new_colname))}\n",
        "      self.data_frame.rename(columns=col_rename_dict,inplace=True)\n",
        "      # Subset the data\n",
        "      df2=self.data_frame[['postingdate','sourcecode','documentno','externaldocumentno','amount','businessunitcode','departmentcode','balaccountno','description','userid']]\n",
        "\n",
        "      return df2                     \n",
        "\n",
        "obj=clean_data(df)\n",
        "\n",
        "df2=obj.clean_data()\n"
      ],
      "metadata": {
        "id": "lnHRacydLBpG"
      },
      "execution_count": 95,
      "outputs": []
    },
    {
      "cell_type": "code",
      "source": [
        "def convert_amount(val):\n",
        "  res=val.replace(',','').replace('-','')\n",
        "  return res\n",
        "df2['amount']=df2['amount'].apply(lambda x :convert_amount(x)).astype('float')\n",
        "df=df2\n",
        "\n",
        "df.head(2)\n"
      ],
      "metadata": {
        "colab": {
          "base_uri": "https://localhost:8080/",
          "height": 112
        },
        "id": "DCywbsMt_T1u",
        "outputId": "92ef0e98-f973-47d9-92b7-6e9d92ac8c29"
      },
      "execution_count": 96,
      "outputs": [
        {
          "output_type": "execute_result",
          "data": {
            "text/html": [
              "\n",
              "  <div id=\"df-c6c04fda-4f07-45af-8d80-d575682b7b8c\">\n",
              "    <div class=\"colab-df-container\">\n",
              "      <div>\n",
              "<style scoped>\n",
              "    .dataframe tbody tr th:only-of-type {\n",
              "        vertical-align: middle;\n",
              "    }\n",
              "\n",
              "    .dataframe tbody tr th {\n",
              "        vertical-align: top;\n",
              "    }\n",
              "\n",
              "    .dataframe thead th {\n",
              "        text-align: right;\n",
              "    }\n",
              "</style>\n",
              "<table border=\"1\" class=\"dataframe\">\n",
              "  <thead>\n",
              "    <tr style=\"text-align: right;\">\n",
              "      <th></th>\n",
              "      <th>postingdate</th>\n",
              "      <th>sourcecode</th>\n",
              "      <th>documentno</th>\n",
              "      <th>externaldocumentno</th>\n",
              "      <th>amount</th>\n",
              "      <th>businessunitcode</th>\n",
              "      <th>departmentcode</th>\n",
              "      <th>balaccountno</th>\n",
              "      <th>description</th>\n",
              "      <th>userid</th>\n",
              "    </tr>\n",
              "  </thead>\n",
              "  <tbody>\n",
              "    <tr>\n",
              "      <th>0</th>\n",
              "      <td>28/01/2022</td>\n",
              "      <td>GENJNL</td>\n",
              "      <td>MED032911</td>\n",
              "      <td>QAS9ADKGG9</td>\n",
              "      <td>9550.0</td>\n",
              "      <td>21010</td>\n",
              "      <td>1070</td>\n",
              "      <td>U100110</td>\n",
              "      <td>MEDICAL REFUND - JOAN SHARON MUYERA</td>\n",
              "      <td>PGAKONO</td>\n",
              "    </tr>\n",
              "    <tr>\n",
              "      <th>1</th>\n",
              "      <td>28/01/2022</td>\n",
              "      <td>GENJNL</td>\n",
              "      <td>MED032948</td>\n",
              "      <td>QAS4ADIUY4</td>\n",
              "      <td>8991.0</td>\n",
              "      <td>22070</td>\n",
              "      <td>1080</td>\n",
              "      <td>U100110</td>\n",
              "      <td>MEDICAL REFUND - ABDIKADIR IBRAHIM DIRIYE</td>\n",
              "      <td>PGAKONO</td>\n",
              "    </tr>\n",
              "  </tbody>\n",
              "</table>\n",
              "</div>\n",
              "      <button class=\"colab-df-convert\" onclick=\"convertToInteractive('df-c6c04fda-4f07-45af-8d80-d575682b7b8c')\"\n",
              "              title=\"Convert this dataframe to an interactive table.\"\n",
              "              style=\"display:none;\">\n",
              "        \n",
              "  <svg xmlns=\"http://www.w3.org/2000/svg\" height=\"24px\"viewBox=\"0 0 24 24\"\n",
              "       width=\"24px\">\n",
              "    <path d=\"M0 0h24v24H0V0z\" fill=\"none\"/>\n",
              "    <path d=\"M18.56 5.44l.94 2.06.94-2.06 2.06-.94-2.06-.94-.94-2.06-.94 2.06-2.06.94zm-11 1L8.5 8.5l.94-2.06 2.06-.94-2.06-.94L8.5 2.5l-.94 2.06-2.06.94zm10 10l.94 2.06.94-2.06 2.06-.94-2.06-.94-.94-2.06-.94 2.06-2.06.94z\"/><path d=\"M17.41 7.96l-1.37-1.37c-.4-.4-.92-.59-1.43-.59-.52 0-1.04.2-1.43.59L10.3 9.45l-7.72 7.72c-.78.78-.78 2.05 0 2.83L4 21.41c.39.39.9.59 1.41.59.51 0 1.02-.2 1.41-.59l7.78-7.78 2.81-2.81c.8-.78.8-2.07 0-2.86zM5.41 20L4 18.59l7.72-7.72 1.47 1.35L5.41 20z\"/>\n",
              "  </svg>\n",
              "      </button>\n",
              "      \n",
              "  <style>\n",
              "    .colab-df-container {\n",
              "      display:flex;\n",
              "      flex-wrap:wrap;\n",
              "      gap: 12px;\n",
              "    }\n",
              "\n",
              "    .colab-df-convert {\n",
              "      background-color: #E8F0FE;\n",
              "      border: none;\n",
              "      border-radius: 50%;\n",
              "      cursor: pointer;\n",
              "      display: none;\n",
              "      fill: #1967D2;\n",
              "      height: 32px;\n",
              "      padding: 0 0 0 0;\n",
              "      width: 32px;\n",
              "    }\n",
              "\n",
              "    .colab-df-convert:hover {\n",
              "      background-color: #E2EBFA;\n",
              "      box-shadow: 0px 1px 2px rgba(60, 64, 67, 0.3), 0px 1px 3px 1px rgba(60, 64, 67, 0.15);\n",
              "      fill: #174EA6;\n",
              "    }\n",
              "\n",
              "    [theme=dark] .colab-df-convert {\n",
              "      background-color: #3B4455;\n",
              "      fill: #D2E3FC;\n",
              "    }\n",
              "\n",
              "    [theme=dark] .colab-df-convert:hover {\n",
              "      background-color: #434B5C;\n",
              "      box-shadow: 0px 1px 3px 1px rgba(0, 0, 0, 0.15);\n",
              "      filter: drop-shadow(0px 1px 2px rgba(0, 0, 0, 0.3));\n",
              "      fill: #FFFFFF;\n",
              "    }\n",
              "  </style>\n",
              "\n",
              "      <script>\n",
              "        const buttonEl =\n",
              "          document.querySelector('#df-c6c04fda-4f07-45af-8d80-d575682b7b8c button.colab-df-convert');\n",
              "        buttonEl.style.display =\n",
              "          google.colab.kernel.accessAllowed ? 'block' : 'none';\n",
              "\n",
              "        async function convertToInteractive(key) {\n",
              "          const element = document.querySelector('#df-c6c04fda-4f07-45af-8d80-d575682b7b8c');\n",
              "          const dataTable =\n",
              "            await google.colab.kernel.invokeFunction('convertToInteractive',\n",
              "                                                     [key], {});\n",
              "          if (!dataTable) return;\n",
              "\n",
              "          const docLinkHtml = 'Like what you see? Visit the ' +\n",
              "            '<a target=\"_blank\" href=https://colab.research.google.com/notebooks/data_table.ipynb>data table notebook</a>'\n",
              "            + ' to learn more about interactive tables.';\n",
              "          element.innerHTML = '';\n",
              "          dataTable['output_type'] = 'display_data';\n",
              "          await google.colab.output.renderOutput(dataTable, element);\n",
              "          const docLink = document.createElement('div');\n",
              "          docLink.innerHTML = docLinkHtml;\n",
              "          element.appendChild(docLink);\n",
              "        }\n",
              "      </script>\n",
              "    </div>\n",
              "  </div>\n",
              "  "
            ],
            "text/plain": [
              "  postingdate sourcecode  ...                                description   userid\n",
              "0  28/01/2022     GENJNL  ...        MEDICAL REFUND - JOAN SHARON MUYERA  PGAKONO\n",
              "1  28/01/2022     GENJNL  ...  MEDICAL REFUND - ABDIKADIR IBRAHIM DIRIYE  PGAKONO\n",
              "\n",
              "[2 rows x 10 columns]"
            ]
          },
          "metadata": {},
          "execution_count": 96
        }
      ]
    },
    {
      "cell_type": "code",
      "source": [
        "pd.set_option('mode.chained_assignment', None)\n",
        "\n",
        "df['businessunitcode']=df['businessunitcode'].astype('str')\n",
        "df['departmentcode']=df['departmentcode'].astype('str')"
      ],
      "metadata": {
        "id": "iwq2lCS5A36N"
      },
      "execution_count": 97,
      "outputs": []
    },
    {
      "cell_type": "code",
      "source": [
        "# Drop all reversed Entries\n",
        "\n",
        "df_reversed=df[df['sourcecode']=='REVERSAL']\n",
        "\n",
        "doc_no_reversed=[]\n",
        "for x in df_reversed['documentno']:\n",
        "  doc_no_reversed.append(x)\n",
        "\n",
        "rows_to_drop=df.query('documentno==@doc_no_reversed')\n",
        "indexName=rows_to_drop.index\n",
        "df.drop(indexName, inplace=True)\n",
        "\n",
        "df['sourcecode'].unique()\n"
      ],
      "metadata": {
        "id": "JLzCYhRGqm_V",
        "outputId": "7e2b79f6-ba17-4ddc-eb14-4ee28fe374d4",
        "colab": {
          "base_uri": "https://localhost:8080/"
        }
      },
      "execution_count": 98,
      "outputs": [
        {
          "output_type": "execute_result",
          "data": {
            "text/plain": [
              "array(['GENJNL', 'PAYMENTJNL', 'JOBGLJNL', 'CASHRECJNL'], dtype=object)"
            ]
          },
          "metadata": {},
          "execution_count": 98
        }
      ]
    },
    {
      "cell_type": "code",
      "source": [
        "# Drop all sweep posted to that account\n",
        "\n",
        "drop_mpesa_sweep=df.query('balaccountno==\"B302010*\" | balaccountno==\"B301010\"').index\n",
        "df.drop(drop_mpesa_sweep,inplace=True)"
      ],
      "metadata": {
        "id": "rRkcwRGbG_mh"
      },
      "execution_count": 99,
      "outputs": []
    },
    {
      "cell_type": "code",
      "source": [
        "# Categorise the Document No.\n",
        "\n",
        "df['type']=df['documentno'].str[:3]\n",
        "\n",
        "for x in df['type'].unique():\n",
        "    print(x,end=',')\n"
      ],
      "metadata": {
        "id": "Bl--iz-NCTd6",
        "outputId": "d7f7f784-3200-413f-a8ce-cb486c2c75db",
        "colab": {
          "base_uri": "https://localhost:8080/"
        }
      },
      "execution_count": 100,
      "outputs": [
        {
          "output_type": "stream",
          "name": "stdout",
          "text": [
            "MED,PC0,FLT,CRE,GJN,JJN,R00,"
          ]
        }
      ]
    },
    {
      "cell_type": "code",
      "source": [
        "# Casual Payment\n",
        "df_casuals=df.query('balaccountno==\"P100500\" & type==\"GJN\"')\n",
        "mask1=df_casuals['description'].str.contains('casual',case=False,na=False)\n",
        "mask2=df_casuals['description'].str.contains('Casual Pay',case=False,na=False)\n",
        "mask3 =df_casuals['description'].str.contains('Labour',case=False,na=False)\n",
        "\n",
        "df_casuals=df_casuals[mask1 | mask2 | mask3]\n"
      ],
      "metadata": {
        "id": "rsN7R8xvIiH_"
      },
      "execution_count": 101,
      "outputs": []
    },
    {
      "cell_type": "code",
      "source": [
        "# Subset other categories of payments.\n",
        "\n",
        "df_salary=df.query('balaccountno==\"C200010\" & type==\"GJN\"')\n",
        "df_medical=df.query('type==\"MED\"')\n",
        "df_pettycash=df.query('type==\"PC0\"')\n",
        "df_float=df.query('type==\"FLT\"')\n",
        "df_customer_refund=df.query('type==\"CRE\"')\n"
      ],
      "metadata": {
        "id": "GcXSkOmBMeFC"
      },
      "execution_count": 102,
      "outputs": []
    },
    {
      "cell_type": "code",
      "source": [
        "# Function to create a categorical data for each row.\n",
        "\n",
        "def func(val):\n",
        "  if val=='GJN':\n",
        "    val='casualpay'\n",
        "  if val=='MED':\n",
        "    val='medical'\n",
        "  if val=='PC0':\n",
        "    val='pettycash' \n",
        "  if val=='CRE':\n",
        "    val='custrefund' \n",
        "  return val\n",
        "  \n",
        "df_casuals['category']=df_casuals['type'].apply(lambda x : func(x))\n",
        "df_customer_refund['category']=df_customer_refund['type'].apply(lambda x : func(x))\n",
        "df_pettycash['category']=df_pettycash['type'].apply(lambda x : func(x))\n",
        "df_medical['category']=df_medical['type'].apply(lambda x : func(x))\n",
        "df_pettycash['category']=df_pettycash['type'].apply(lambda x : func(x))\n"
      ],
      "metadata": {
        "id": "p2uCjYymzNQf"
      },
      "execution_count": 103,
      "outputs": []
    },
    {
      "cell_type": "code",
      "source": [
        "#Import the files to excel\n",
        "\n",
        "#create a Pandas Excel writer using XlsxWriter as the engine.\n",
        "writer=pd.ExcelWriter('B330020.xlsx',engine='xlsxwriter')\n",
        "\n",
        "\n",
        "#write each DataFrame to a specific sheet\n",
        "df_casuals.to_excel(writer,sheet_name='Casuals',index=False)\n",
        "df_salary.to_excel(writer,sheet_name='Salary',index=False)\n",
        "df_medical.to_excel(writer,sheet_name='Medical',index=False)\n",
        "df_pettycash.to_excel(writer,sheet_name='Pettycash',index=False)\n",
        "df_float.to_excel(writer,sheet_name='Float',index=False)\n",
        "df_customer_refund.to_excel(writer,sheet_name='Customer Refund',index=False)\n",
        "\n",
        "\n",
        "#close the Pandas Excel writer and output the Excel file\n",
        "writer.save()\n"
      ],
      "metadata": {
        "id": "xnlaYPBI1uSZ"
      },
      "execution_count": 104,
      "outputs": []
    },
    {
      "cell_type": "code",
      "source": [
        "# Combined.\n",
        "\n",
        "frames=[df_casuals,df_salary,df_medical,df_pettycash,df_float,df_customer_refund]\n",
        "data=pd.concat(frames)\n",
        "\n",
        "# Fill the Nan Values with string.\n",
        "\n",
        "data['category']=data['category'].fillna('staffadvance')"
      ],
      "metadata": {
        "id": "S3ICwlNXvJdq"
      },
      "execution_count": 105,
      "outputs": []
    },
    {
      "cell_type": "code",
      "source": [
        "data['category'].unique()"
      ],
      "metadata": {
        "colab": {
          "base_uri": "https://localhost:8080/"
        },
        "id": "hBl6FXVNz7dq",
        "outputId": "ba6c40fb-69c6-4f4d-e58a-8c8904c6d0bd"
      },
      "execution_count": 106,
      "outputs": [
        {
          "output_type": "execute_result",
          "data": {
            "text/plain": [
              "array(['casualpay', 'staffadvance', 'medical', 'pettycash', 'custrefund'],\n",
              "      dtype=object)"
            ]
          },
          "metadata": {},
          "execution_count": 106
        }
      ]
    }
  ]
}